{
 "cells": [
  {
   "cell_type": "code",
   "execution_count": 1,
   "metadata": {
    "vscode": {
     "languageId": "r"
    }
   },
   "outputs": [
    {
     "name": "stdout",
     "output_type": "stream",
     "text": [
      "[1] 1\n",
      "[1] 2\n",
      "[1] 3\n",
      "[1] 4\n",
      "[1] 5\n",
      "[1] 6\n",
      "[1] 7\n",
      "[1] 8\n",
      "[1] 9\n",
      "[1] 10\n"
     ]
    }
   ],
   "source": [
    "for(i in 1:10){\n",
    "    print(i)\n",
    "}"
   ]
  },
  {
   "cell_type": "code",
   "execution_count": 1,
   "id": "98c237b0",
   "metadata": {
    "vscode": {
     "languageId": "r"
    }
   },
   "outputs": [
    {
     "name": "stderr",
     "output_type": "stream",
     "text": [
      "Installing package into 'C:/Users/Autumn/AppData/Local/R/win-library/4.2'\n",
      "(as 'lib' is unspecified)\n",
      "\n"
     ]
    },
    {
     "name": "stdout",
     "output_type": "stream",
     "text": [
      "package 'cyclocomp' successfully unpacked and MD5 sums checked\n",
      "\n",
      "The downloaded binary packages are in\n",
      "\tC:\\Users\\Autumn\\AppData\\Local\\Temp\\Rtmpao49mZ\\downloaded_packages\n"
     ]
    }
   ],
   "source": [
    "install.packages((\"cyclocomp\"))"
   ]
  },
  {
   "cell_type": "code",
   "execution_count": 4,
   "id": "05dd88bd",
   "metadata": {
    "vscode": {
     "languageId": "r"
    }
   },
   "outputs": [
    {
     "data": {
      "text/html": [
       "'C:/PROGRA~1/R/R-42~1.0'"
      ],
      "text/latex": [
       "'C:/PROGRA\\textasciitilde{}1/R/R-42\\textasciitilde{}1.0'"
      ],
      "text/markdown": [
       "'C:/PROGRA~1/R/R-42~1.0'"
      ],
      "text/plain": [
       "[1] \"C:/PROGRA~1/R/R-42~1.0\""
      ]
     },
     "metadata": {},
     "output_type": "display_data"
    },
    {
     "name": "stderr",
     "output_type": "stream",
     "text": [
      "Installing package into 'C:/Users/Autumn/AppData/Local/R/win-library/4.2'\n",
      "(as 'lib' is unspecified)\n",
      "\n"
     ]
    },
    {
     "name": "stdout",
     "output_type": "stream",
     "text": [
      "package 'languageserver' successfully unpacked and MD5 sums checked\n"
     ]
    },
    {
     "name": "stderr",
     "output_type": "stream",
     "text": [
      "Warning message:\n",
      "\"cannot remove prior installation of package 'languageserver'\"\n",
      "Warning message in file.copy(savedcopy, lib, recursive = TRUE):\n",
      "\"problem copying C:\\Users\\Autumn\\AppData\\Local\\R\\win-library\\4.2\\00LOCK\\languageserver\\libs\\x64\\languageserver.dll to C:\\Users\\Autumn\\AppData\\Local\\R\\win-library\\4.2\\languageserver\\libs\\x64\\languageserver.dll: Permission denied\"\n",
      "Warning message:\n",
      "\"restored 'languageserver'\"\n"
     ]
    },
    {
     "name": "stdout",
     "output_type": "stream",
     "text": [
      "\n",
      "The downloaded binary packages are in\n",
      "\tC:\\Users\\Autumn\\AppData\\Local\\Temp\\Rtmpao49mZ\\downloaded_packages\n"
     ]
    }
   ],
   "source": [
    "R.home()\n",
    "install.packages(\"languageserver\")"
   ]
  },
  {
   "cell_type": "code",
   "execution_count": null,
   "id": "618e9d9a",
   "metadata": {
    "vscode": {
     "languageId": "r"
    }
   },
   "outputs": [],
   "source": []
  }
 ],
 "metadata": {
  "kernelspec": {
   "display_name": "R",
   "language": "R",
   "name": "ir"
  },
  "language_info": {
   "codemirror_mode": "r",
   "file_extension": ".r",
   "mimetype": "text/x-r-source",
   "name": "R",
   "pygments_lexer": "r",
   "version": "4.2.0"
  }
 },
 "nbformat": 4,
 "nbformat_minor": 5
}
