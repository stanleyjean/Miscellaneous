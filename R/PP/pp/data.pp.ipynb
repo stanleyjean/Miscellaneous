{
 "cells": [
  {
   "cell_type": "code",
   "execution_count": 1,
   "metadata": {
    "vscode": {
     "languageId": "r"
    }
   },
   "outputs": [],
   "source": [
    "vodka <- c(128,\n",
    "136,\n",
    "233,\n",
    "219,\n",
    "284,\n",
    "343,\n",
    "368,\n",
    "230,\n",
    "162,\n",
    "246,\n",
    "252,\n",
    "114,\n",
    "210,\n",
    "303,\n",
    "275,\n",
    "463\n",
    ")\n"
   ]
  },
  {
   "cell_type": "code",
   "execution_count": 2,
   "metadata": {
    "vscode": {
     "languageId": "r"
    }
   },
   "outputs": [
    {
     "name": "stderr",
     "output_type": "stream",
     "text": [
      "── \u001b[1mAttaching packages\u001b[22m ─────────────────────────────────────── tidyverse 1.3.1 ──\n",
      "\n",
      "\u001b[32m✔\u001b[39m \u001b[34mggplot2\u001b[39m 3.3.6     \u001b[32m✔\u001b[39m \u001b[34mpurrr  \u001b[39m 0.3.4\n",
      "\u001b[32m✔\u001b[39m \u001b[34mtibble \u001b[39m 3.1.7     \u001b[32m✔\u001b[39m \u001b[34mdplyr  \u001b[39m 1.0.9\n",
      "\u001b[32m✔\u001b[39m \u001b[34mtidyr  \u001b[39m 1.2.0     \u001b[32m✔\u001b[39m \u001b[34mstringr\u001b[39m 1.4.0\n",
      "\u001b[32m✔\u001b[39m \u001b[34mreadr  \u001b[39m 2.1.2     \u001b[32m✔\u001b[39m \u001b[34mforcats\u001b[39m 0.5.1\n",
      "\n",
      "── \u001b[1mConflicts\u001b[22m ────────────────────────────────────────── tidyverse_conflicts() ──\n",
      "\u001b[31m✖\u001b[39m \u001b[34mdplyr\u001b[39m::\u001b[32mfilter()\u001b[39m masks \u001b[34mstats\u001b[39m::filter()\n",
      "\u001b[31m✖\u001b[39m \u001b[34mdplyr\u001b[39m::\u001b[32mlag()\u001b[39m    masks \u001b[34mstats\u001b[39m::lag()\n",
      "\n"
     ]
    }
   ],
   "source": [
    "library(tidyverse)"
   ]
  },
  {
   "cell_type": "code",
   "execution_count": 4,
   "metadata": {
    "vscode": {
     "languageId": "r"
    }
   },
   "outputs": [],
   "source": [
    "months <- c(\n",
    "\"1971 February\",\n",
    "\"1971 March\",\n",
    "\"1971 April\",\n",
    "\"1971 May\",\n",
    "\"1971 June\",\n",
    "\"1971 July\",\n",
    "\"1971 August\",\n",
    "\"1971 September\",\n",
    "\"1971 October\",\n",
    "\"1971 November\",\n",
    "\"1971 December\",\n",
    "\"1972 January\",\n",
    "\"1972 February\",\n",
    "\"1972 March\",\n",
    "\"1972 April\",\n",
    "\"1972 May\"\n",
    ")"
   ]
  },
  {
   "cell_type": "code",
   "execution_count": 5,
   "metadata": {
    "vscode": {
     "languageId": "r"
    }
   },
   "outputs": [],
   "source": [
    "vodka_m <- cbind(months, vodka)"
   ]
  },
  {
   "cell_type": "code",
   "execution_count": 6,
   "metadata": {
    "vscode": {
     "languageId": "r"
    }
   },
   "outputs": [],
   "source": [
    "vodka_m <- vodka_m %>% as_tibble() %>% mutate(\n",
    "    vodka = as.numeric(vodka),\n",
    "    months = as_factor(months)\n",
    ")"
   ]
  },
  {
   "cell_type": "code",
   "execution_count": 14,
   "metadata": {
    "vscode": {
     "languageId": "r"
    }
   },
   "outputs": [
    {
     "data": {
      "image/png": "[encoded data removed]",
      "text/plain": [
       "plot without title"
      ]
     },
     "metadata": {
      "image/png": {
       "height": 420,
       "width": 420
      }
     },
     "output_type": "display_data"
    }
   ],
   "source": [
    "vodka_m %>%\n",
    "    ggplot(aes(x = months, y = vodka, group = 1)) +\n",
    "    geom_line() + \n",
    "    geom_hline(yintercept = mean(vodka), colour = \"red\")"
   ]
  },
  {
   "cell_type": "code",
   "execution_count": 23,
   "metadata": {
    "vscode": {
     "languageId": "r"
    }
   },
   "outputs": [],
   "source": [
    "vodka_m <- vodka_m %>% mutate(\n",
    "    error = vodka - mean(vodka)\n",
    "\n",
    ")\n",
    "error_mean = mean(vodka_m$error)"
   ]
  },
  {
   "cell_type": "code",
   "execution_count": 25,
   "metadata": {
    "vscode": {
     "languageId": "r"
    }
   },
   "outputs": [
    {
     "data": {
      "image/png": "[encoded data removed]",
      "text/plain": [
       "plot without title"
      ]
     },
     "metadata": {
      "image/png": {
       "height": 420,
       "width": 420
      }
     },
     "output_type": "display_data"
    }
   ],
   "source": [
    "vodka_m %>% \n",
    "    ggplot(aes(x = months, y = error, group = 1)) +\n",
    "    geom_line(colour = \"blue\") +\n",
    "    geom_hline(yintercept = mean(error_mean), colour = \"red\")"
   ]
  },
  {
   "cell_type": "code",
   "execution_count": 27,
   "metadata": {
    "vscode": {
     "languageId": "r"
    }
   },
   "outputs": [],
   "source": [
    "gin = c (51,\n",
    "52,\n",
    "74,\n",
    "157,\n",
    "150,\n",
    "257,\n",
    "179,\n",
    "83,\n",
    "72,\n",
    "89,\n",
    "181,\n",
    "42,\n",
    "166,\n",
    "142,\n",
    "133,\n",
    "213\n",
    ")"
   ]
  },
  {
   "cell_type": "code",
   "execution_count": 28,
   "metadata": {
    "vscode": {
     "languageId": "r"
    }
   },
   "outputs": [],
   "source": [
    "gin_m = cbind(months, gin) %>% as_tibble()"
   ]
  },
  {
   "cell_type": "code",
   "execution_count": 33,
   "metadata": {
    "vscode": {
     "languageId": "r"
    }
   },
   "outputs": [],
   "source": [
    "gin_m <- gin_m %>% mutate(\n",
    "    gin = as.numeric(gin)\n",
    ")"
   ]
  },
  {
   "cell_type": "code",
   "execution_count": 35,
   "metadata": {
    "vscode": {
     "languageId": "r"
    }
   },
   "outputs": [],
   "source": [
    "gin_m <- gin_m %>% mutate(\n",
    "    error = gin - mean(gin)\n",
    ")"
   ]
  },
  {
   "cell_type": "code",
   "execution_count": null,
   "metadata": {
    "vscode": {
     "languageId": "r"
    }
   },
   "outputs": [],
   "source": [
    " "
   ]
  }
 ],
 "metadata": {
  "kernelspec": {
   "display_name": "R",
   "language": "R",
   "name": "ir"
  },
  "language_info": {
   "codemirror_mode": "r",
   "file_extension": ".r",
   "mimetype": "text/x-r-source",
   "name": "R",
   "pygments_lexer": "r",
   "version": "4.2.1"
  },
  "orig_nbformat": 4,
  "vscode": {
   "interpreter": {
    "hash": "f324efe2a5d1bd11a333c9fd5276eaf4dfe9ad62528b8e23a16083d4fd1c4166"
   }
  }
 },
 "nbformat": 4,
 "nbformat_minor": 2
}
