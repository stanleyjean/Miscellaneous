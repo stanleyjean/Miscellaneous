{
 "cells": [
  {
   "cell_type": "code",
   "execution_count": 1,
   "metadata": {},
   "outputs": [],
   "source": [
    "import konlpy.tag"
   ]
  },
  {
   "cell_type": "code",
   "execution_count": 2,
   "metadata": {},
   "outputs": [
    {
     "name": "stderr",
     "output_type": "stream",
     "text": [
      "C:\\Users\\autumn\\anaconda3\\lib\\site-packages\\konlpy\\tag\\_okt.py:16: UserWarning: \"Twitter\" has changed to \"Okt\" since KoNLPy v0.4.5.\n",
      "  warn('\"Twitter\" has changed to \"Okt\" since KoNLPy v0.4.5.')\n"
     ]
    }
   ],
   "source": [
    "twitter = konlpy.tag.Twitter()"
   ]
  },
  {
   "cell_type": "code",
   "execution_count": 3,
   "metadata": {},
   "outputs": [],
   "source": [
    "text1 = '파이콘은 파이썬 콘퍼런스의 약자이다'\n",
    "text2 = '최순실 국정 농단'"
   ]
  },
  {
   "cell_type": "code",
   "execution_count": 4,
   "metadata": {},
   "outputs": [
    {
     "name": "stdout",
     "output_type": "stream",
     "text": [
      "[('파', 'Noun'), ('이콘', 'Noun'), ('은', 'Josa'), ('파이썬', 'Noun'), ('콘퍼런스', 'Noun'), ('의', 'Josa'), ('약자', 'Noun'), ('이다', 'Josa')]\n"
     ]
    }
   ],
   "source": [
    "print(twitter.pos(text1))"
   ]
  },
  {
   "cell_type": "code",
   "execution_count": 5,
   "metadata": {},
   "outputs": [
    {
     "name": "stdout",
     "output_type": "stream",
     "text": [
      "[('최', 'Noun'), ('순', 'Modifier'), ('실', 'Noun'), ('국정', 'Noun'), ('농단', 'Noun')]\n"
     ]
    }
   ],
   "source": [
    "print(twitter.pos(text2))"
   ]
  },
  {
   "cell_type": "code",
   "execution_count": 7,
   "metadata": {},
   "outputs": [],
   "source": [
    "# customized_konlpy (ckonlpy)를 사용해서 새로운 단어 추가하기\n",
    "from ckonlpy.tag import Twitter\n",
    "twitter = Twitter()"
   ]
  },
  {
   "cell_type": "code",
   "execution_count": 8,
   "metadata": {},
   "outputs": [
    {
     "name": "stdout",
     "output_type": "stream",
     "text": [
      "[('파이콘', 'Noun'), ('은', 'Josa'), ('파이썬', 'Noun'), ('콘퍼런스', 'Noun'), ('의', 'Josa'), ('약자', 'Noun'), ('이다', 'Josa')]\n"
     ]
    }
   ],
   "source": [
    "twitter.add_dictionary('파이콘', 'Noun') # Add a new word to the dictionary temporarily \n",
    "print(twitter.pos(text1))"
   ]
  },
  {
   "cell_type": "code",
   "execution_count": 9,
   "metadata": {},
   "outputs": [],
   "source": [
    "#한번에 여러 단어 추가하기\n",
    "twitter.add_dictionary(['파이콘','최순실'], 'Noun')"
   ]
  },
  {
   "cell_type": "code",
   "execution_count": 10,
   "metadata": {},
   "outputs": [
    {
     "data": {
      "text/plain": [
       "[('최순실', 'Noun'), ('국정', 'Noun'), ('농단', 'Noun')]"
      ]
     },
     "execution_count": 10,
     "metadata": {},
     "output_type": "execute_result"
    }
   ],
   "source": [
    "twitter.pos(text2)"
   ]
  },
  {
   "cell_type": "code",
   "execution_count": null,
   "metadata": {
    "collapsed": true
   },
   "outputs": [],
   "source": []
  }
 ],
 "metadata": {
  "kernelspec": {
   "display_name": "Python 3.10.5 64-bit",
   "language": "python",
   "name": "python3"
  },
  "language_info": {
   "codemirror_mode": {
    "name": "ipython",
    "version": 3
   },
   "file_extension": ".py",
   "mimetype": "text/x-python",
   "name": "python",
   "nbconvert_exporter": "python",
   "pygments_lexer": "ipython3",
   "version": "3.10.5"
  },
  "vscode": {
   "interpreter": {
    "hash": "f324efe2a5d1bd11a333c9fd5276eaf4dfe9ad62528b8e23a16083d4fd1c4166"
   }
  }
 },
 "nbformat": 4,
 "nbformat_minor": 2
}
