{
 "cells": [
  {
   "cell_type": "code",
   "execution_count": 1,
   "metadata": {},
   "outputs": [],
   "source": [
    "import nltk # natural language tool kit"
   ]
  },
  {
   "cell_type": "code",
   "execution_count": 2,
   "metadata": {},
   "outputs": [],
   "source": [
    "# nltk.download('all')"
   ]
  },
  {
   "cell_type": "code",
   "execution_count": 3,
   "metadata": {},
   "outputs": [],
   "source": [
    "with open('nytimes.txt', 'r', encoding='utf8') as f:\n",
    "    content = f.read()"
   ]
  },
  {
   "cell_type": "code",
   "execution_count": 4,
   "metadata": {
    "scrolled": true
   },
   "outputs": [
    {
     "name": "stdout",
     "output_type": "stream",
     "text": [
      " Hurray for the HotBlack Coffee cafe in Toronto for declining to offer Wi-Fi to its customers. There are other such cafes, to be sure, including seven of the eight New York City locations of Café Grumpy. But it’s HotBlack’s reason for the electronic blackout that is cause for hosannas. As its president, Jimson Bienenstock, explained, his aim is to get customers to talk with one another instead of being buried in their portable devices. “It’s about creating a social vibe,” he told a New York Times reporter. “We’re a vehicle for human interaction, otherwise it’s just a commodity.” What a novel idea! Perhaps Mr. Bienenstock instinctively knows what medical science has been increasingly demonstrating for decades: Social interaction is a critically important contributor to good health and longevity. Personally, I don’t need research-based evidence to appreciate the value of making and maintaining social connections. I experience it daily during my morning walk with up to three women, then before and after my swim in the locker room of the YMCA where the use of electronic devices is not allowed. The locker room experience has been surprisingly rewarding. I’ve made many new friends with whom I can share both joys and sorrows. The women help me solve problems big and small, providing a sounding board, advice and counsel and often a hearty laugh that brightens my day. And, as myriad studies have shown, they may also be helping to save my life. As the Harvard Women’s Health Watch reported, “Dozens of studies have shown that people who have satisfying relationships with family, friends and their community are happier, have fewer health problems, and live longer.” In a study of 7,000 men and women in Alameda County, Calif., begun in 1965, Lisa F. Berkman and S. Leonard Syme found that “people who were disconnected from others were roughly three times more likely to die during the nine-year study than people with strong social ties,” John Robbins recounted in his marvelous book on health and longevity, “Healthy at 100.” This major difference in survival occurred regardless of people’s age, gender, health practices or physical health status. In fact, the researchers found that “those with close social ties and unhealthful lifestyles (such as smoking, obesity and lack of exercise) actually lived longer than those with poor social ties but more healthful living habits,” Mr. Robbins wrote. However, he quickly added, “Needless to say, people with both healthful lifestyles and close social ties lived the longest of all.” In another study, published in The New England Journal of Medicine in 1984, researchers at the Health Insurance Plan of Greater New York found that among 2,320 men who had survived a heart attack, those with strong connections with other people had only a quarter the risk of death within the following three years as those who lacked social connectedness. Researchers at Duke University Medical Center also found that social ties can reduce deaths among people with serious medical conditions. Beverly H. Brummett and colleagues reported in 2001 that among adults with coronary artery disease, the mortality rate was 2.4 times higher among those who were socially isolated. In a column I wrote in 2013 called “Shaking Off Loneliness,” I cited a review of research published in 1988 indicating that “social isolation is on a par with high blood pressure, obesity, lack of exercise or smoking as a risk factor for illness and early death.” People who are chronically lacking in social contacts are more likely to experience elevated levels of stress and inflammation. These, in turn, can undermine the well-being of nearly every bodily system, including the brain. Absent social interactions, blood flow to vital organs is likely to be reduced and immune function may be undermined. Even how genes are expressed can be adversely affected, impairing the body’s ability to turn off inflammation. Chronic inflammation has been linked to heart disease, arthritis, Type 2 diabetes and even suicide attempts. In a 2010 report in The Journal of Health and Social Behavior, Debra Umberson and Jennifer Karas Montez, sociology researchers at the University of Texas at Austin, cited “consistent and compelling evidence linking a low quantity or quality of social ties with a host of conditions,” including the development and worsening of cardiovascular disease, repeat heart attacks, autoimmune disorders, high blood pressure, cancer and slowed wound healing. The Texas researchers pointed out that social interactions can enhance good health through a positive influence on people’s living habits. For example, if none of your friends smoke, you’ll be less likely to smoke. According to the researchers, the practice of health behaviors like getting regular exercise, consuming a balanced diet and avoiding smoking, excessive weight gain and abuse of alcohol and drugs “explains about 40 percent of premature mortality as well as substantial morbidity and disability in the United States.” Lack of social interactions also damages mental health. The emotional support provided by social connections helps to reduce the damaging effects of stress and can foster “a sense of meaning and purpose in life,” the Texas researchers wrote. Emma Seppala of the Stanford Center for Compassion and Altruism Research and Education, and author of the 2016 book “The Happiness Track,” wrote, “People who feel more connected to others have lower levels of anxiety and depression. Moreover, studies show they also have higher self-esteem, greater empathy for others, are more trusting and cooperative and, as a consequence, others are more open to trusting and cooperating with them. “In other words,” Dr. Seppala explained, “social connectedness generates a positive feedback loop of social, emotional and physical well-being.” She suggested that a societal decline in social connectedness may help to explain recent increases in reports of loneliness, isolation and alienation, and may be why loneliness has become a leading reason people seek psychological counseling. By 2004, she wrote, sociological research revealed that more than 25 percent of Americans had no one to confide in. They lacked a close friend with whom they felt comfortable sharing a personal problem. For those seeking a health-promoting lifestyle, it’s not enough to focus on eating your veggies and getting regular exercise. Dr. Seppala advises: “Don’t forget to connect.”\n"
     ]
    }
   ],
   "source": [
    "print(content)"
   ]
  },
  {
   "cell_type": "markdown",
   "metadata": {},
   "source": [
    "Text preprocessing"
   ]
  },
  {
   "cell_type": "code",
   "execution_count": 5,
   "metadata": {},
   "outputs": [
    {
     "data": {
      "text/plain": [
       "['__add__',\n",
       " '__class__',\n",
       " '__contains__',\n",
       " '__delattr__',\n",
       " '__dir__',\n",
       " '__doc__',\n",
       " '__eq__',\n",
       " '__format__',\n",
       " '__ge__',\n",
       " '__getattribute__',\n",
       " '__getitem__',\n",
       " '__getnewargs__',\n",
       " '__gt__',\n",
       " '__hash__',\n",
       " '__init__',\n",
       " '__init_subclass__',\n",
       " '__iter__',\n",
       " '__le__',\n",
       " '__len__',\n",
       " '__lt__',\n",
       " '__mod__',\n",
       " '__mul__',\n",
       " '__ne__',\n",
       " '__new__',\n",
       " '__reduce__',\n",
       " '__reduce_ex__',\n",
       " '__repr__',\n",
       " '__rmod__',\n",
       " '__rmul__',\n",
       " '__setattr__',\n",
       " '__sizeof__',\n",
       " '__str__',\n",
       " '__subclasshook__',\n",
       " 'capitalize',\n",
       " 'casefold',\n",
       " 'center',\n",
       " 'count',\n",
       " 'encode',\n",
       " 'endswith',\n",
       " 'expandtabs',\n",
       " 'find',\n",
       " 'format',\n",
       " 'format_map',\n",
       " 'index',\n",
       " 'isalnum',\n",
       " 'isalpha',\n",
       " 'isascii',\n",
       " 'isdecimal',\n",
       " 'isdigit',\n",
       " 'isidentifier',\n",
       " 'islower',\n",
       " 'isnumeric',\n",
       " 'isprintable',\n",
       " 'isspace',\n",
       " 'istitle',\n",
       " 'isupper',\n",
       " 'join',\n",
       " 'ljust',\n",
       " 'lower',\n",
       " 'lstrip',\n",
       " 'maketrans',\n",
       " 'partition',\n",
       " 'replace',\n",
       " 'rfind',\n",
       " 'rindex',\n",
       " 'rjust',\n",
       " 'rpartition',\n",
       " 'rsplit',\n",
       " 'rstrip',\n",
       " 'split',\n",
       " 'splitlines',\n",
       " 'startswith',\n",
       " 'strip',\n",
       " 'swapcase',\n",
       " 'title',\n",
       " 'translate',\n",
       " 'upper',\n",
       " 'zfill']"
      ]
     },
     "execution_count": 5,
     "metadata": {},
     "output_type": "execute_result"
    }
   ],
   "source": [
    "dir(content)"
   ]
  },
  {
   "cell_type": "code",
   "execution_count": 6,
   "metadata": {},
   "outputs": [],
   "source": [
    "cleaned_content = content.replace('.','').replace(',','').replace('!','')"
   ]
  },
  {
   "cell_type": "code",
   "execution_count": 7,
   "metadata": {},
   "outputs": [],
   "source": [
    "a = \"Today is Friday!!??\""
   ]
  },
  {
   "cell_type": "code",
   "execution_count": 8,
   "metadata": {},
   "outputs": [
    {
     "data": {
      "text/plain": [
       "'Today is Friday'"
      ]
     },
     "execution_count": 8,
     "metadata": {},
     "output_type": "execute_result"
    }
   ],
   "source": [
    "a.replace('!', '').replace('?', '')"
   ]
  },
  {
   "cell_type": "code",
   "execution_count": 9,
   "metadata": {
    "scrolled": true
   },
   "outputs": [
    {
     "name": "stdout",
     "output_type": "stream",
     "text": [
      " Hurray for the HotBlack Coffee cafe in Toronto for declining to offer WiFi to its customers There are other such cafes to be sure including seven of the eight New York City locations of Café Grumpy But its HotBlacks reason for the electronic blackout that is cause for hosannas As its president Jimson Bienenstock explained his aim is to get customers to talk with one another instead of being buried in their portable devices Its about creating a social vibe he told a New York Times reporter Were a vehicle for human interaction otherwise its just a commodity What a novel idea Perhaps Mr Bienenstock instinctively knows what medical science has been increasingly demonstrating for decades Social interaction is a critically important contributor to good health and longevity Personally I dont need researchbased evidence to appreciate the value of making and maintaining social connections I experience it daily during my morning walk with up to three women then before and after my swim in the locker room of the YMCA where the use of electronic devices is not allowed The locker room experience has been surprisingly rewarding Ive made many new friends with whom I can share both joys and sorrows The women help me solve problems big and small providing a sounding board advice and counsel and often a hearty laugh that brightens my day And as myriad studies have shown they may also be helping to save my life As the Harvard Womens Health Watch reported Dozens of studies have shown that people who have satisfying relationships with family friends and their community are happier have fewer health problems and live longer In a study of 7000 men and women in Alameda County Calif begun in 1965 Lisa F Berkman and S Leonard Syme found that people who were disconnected from others were roughly three times more likely to die during the nineyear study than people with strong social ties John Robbins recounted in his marvelous book on health and longevity Healthy at 100 This major difference in survival occurred regardless of peoples age gender health practices or physical health status In fact the researchers found that those with close social ties and unhealthful lifestyles such as smoking obesity and lack of exercise actually lived longer than those with poor social ties but more healthful living habits Mr Robbins wrote However he quickly added Needless to say people with both healthful lifestyles and close social ties lived the longest of all In another study published in The New England Journal of Medicine in 1984 researchers at the Health Insurance Plan of Greater New York found that among 2320 men who had survived a heart attack those with strong connections with other people had only a quarter the risk of death within the following three years as those who lacked social connectedness Researchers at Duke University Medical Center also found that social ties can reduce deaths among people with serious medical conditions Beverly H Brummett and colleagues reported in 2001 that among adults with coronary artery disease the mortality rate was 24 times higher among those who were socially isolated In a column I wrote in 2013 called Shaking Off Loneliness I cited a review of research published in 1988 indicating that social isolation is on a par with high blood pressure obesity lack of exercise or smoking as a risk factor for illness and early death People who are chronically lacking in social contacts are more likely to experience elevated levels of stress and inflammation These in turn can undermine the wellbeing of nearly every bodily system including the brain Absent social interactions blood flow to vital organs is likely to be reduced and immune function may be undermined Even how genes are expressed can be adversely affected impairing the bodys ability to turn off inflammation Chronic inflammation has been linked to heart disease arthritis Type 2 diabetes and even suicide attempts In a 2010 report in The Journal of Health and Social Behavior Debra Umberson and Jennifer Karas Montez sociology researchers at the University of Texas at Austin cited consistent and compelling evidence linking a low quantity or quality of social ties with a host of conditions including the development and worsening of cardiovascular disease repeat heart attacks autoimmune disorders high blood pressure cancer and slowed wound healing The Texas researchers pointed out that social interactions can enhance good health through a positive influence on peoples living habits For example if none of your friends smoke youll be less likely to smoke According to the researchers the practice of health behaviors like getting regular exercise consuming a balanced diet and avoiding smoking excessive weight gain and abuse of alcohol and drugs explains about 40 percent of premature mortality as well as substantial morbidity and disability in the United States Lack of social interactions also damages mental health The emotional support provided by social connections helps to reduce the damaging effects of stress and can foster a sense of meaning and purpose in life the Texas researchers wrote Emma Seppala of the Stanford Center for Compassion and Altruism Research and Education and author of the 2016 book The Happiness Track wrote People who feel more connected to others have lower levels of anxiety and depression Moreover studies show they also have higher selfesteem greater empathy for others are more trusting and cooperative and as a consequence others are more open to trusting and cooperating with them In other words Dr Seppala explained social connectedness generates a positive feedback loop of social emotional and physical wellbeing She suggested that a societal decline in social connectedness may help to explain recent increases in reports of loneliness isolation and alienation and may be why loneliness has become a leading reason people seek psychological counseling By 2004 she wrote sociological research revealed that more than 25 percent of Americans had no one to confide in They lacked a close friend with whom they felt comfortable sharing a personal problem For those seeking a healthpromoting lifestyle its not enough to focus on eating your veggies and getting regular exercise Dr Seppala advises Dont forget to connect\n"
     ]
    }
   ],
   "source": [
    "import re\n",
    "# 1. 불필요한 symbols과 marks 제거하기\n",
    "cleaned_content = re.sub('[^\\w\\d\\s]','',content)\n",
    "print(cleaned_content)"
   ]
  },
  {
   "cell_type": "code",
   "execution_count": 10,
   "metadata": {},
   "outputs": [],
   "source": [
    "# 2. Case conversion; 대문자를 소문자로 바꾸기\n",
    "cleaned_content = cleaned_content.lower() # upper()"
   ]
  },
  {
   "cell_type": "code",
   "execution_count": 11,
   "metadata": {},
   "outputs": [
    {
     "name": "stdout",
     "output_type": "stream",
     "text": [
      " hurray for the hotblack coffee cafe in toronto for declining to offer wifi to its customers there are other such cafes to be sure including seven of the eight new york city locations of café grumpy but its hotblacks reason for the electronic blackout that is cause for hosannas as its president jimson bienenstock explained his aim is to get customers to talk with one another instead of being buried in their portable devices its about creating a social vibe he told a new york times reporter were a vehicle for human interaction otherwise its just a commodity what a novel idea perhaps mr bienenstock instinctively knows what medical science has been increasingly demonstrating for decades social interaction is a critically important contributor to good health and longevity personally i dont need researchbased evidence to appreciate the value of making and maintaining social connections i experience it daily during my morning walk with up to three women then before and after my swim in the locker room of the ymca where the use of electronic devices is not allowed the locker room experience has been surprisingly rewarding ive made many new friends with whom i can share both joys and sorrows the women help me solve problems big and small providing a sounding board advice and counsel and often a hearty laugh that brightens my day and as myriad studies have shown they may also be helping to save my life as the harvard womens health watch reported dozens of studies have shown that people who have satisfying relationships with family friends and their community are happier have fewer health problems and live longer in a study of 7000 men and women in alameda county calif begun in 1965 lisa f berkman and s leonard syme found that people who were disconnected from others were roughly three times more likely to die during the nineyear study than people with strong social ties john robbins recounted in his marvelous book on health and longevity healthy at 100 this major difference in survival occurred regardless of peoples age gender health practices or physical health status in fact the researchers found that those with close social ties and unhealthful lifestyles such as smoking obesity and lack of exercise actually lived longer than those with poor social ties but more healthful living habits mr robbins wrote however he quickly added needless to say people with both healthful lifestyles and close social ties lived the longest of all in another study published in the new england journal of medicine in 1984 researchers at the health insurance plan of greater new york found that among 2320 men who had survived a heart attack those with strong connections with other people had only a quarter the risk of death within the following three years as those who lacked social connectedness researchers at duke university medical center also found that social ties can reduce deaths among people with serious medical conditions beverly h brummett and colleagues reported in 2001 that among adults with coronary artery disease the mortality rate was 24 times higher among those who were socially isolated in a column i wrote in 2013 called shaking off loneliness i cited a review of research published in 1988 indicating that social isolation is on a par with high blood pressure obesity lack of exercise or smoking as a risk factor for illness and early death people who are chronically lacking in social contacts are more likely to experience elevated levels of stress and inflammation these in turn can undermine the wellbeing of nearly every bodily system including the brain absent social interactions blood flow to vital organs is likely to be reduced and immune function may be undermined even how genes are expressed can be adversely affected impairing the bodys ability to turn off inflammation chronic inflammation has been linked to heart disease arthritis type 2 diabetes and even suicide attempts in a 2010 report in the journal of health and social behavior debra umberson and jennifer karas montez sociology researchers at the university of texas at austin cited consistent and compelling evidence linking a low quantity or quality of social ties with a host of conditions including the development and worsening of cardiovascular disease repeat heart attacks autoimmune disorders high blood pressure cancer and slowed wound healing the texas researchers pointed out that social interactions can enhance good health through a positive influence on peoples living habits for example if none of your friends smoke youll be less likely to smoke according to the researchers the practice of health behaviors like getting regular exercise consuming a balanced diet and avoiding smoking excessive weight gain and abuse of alcohol and drugs explains about 40 percent of premature mortality as well as substantial morbidity and disability in the united states lack of social interactions also damages mental health the emotional support provided by social connections helps to reduce the damaging effects of stress and can foster a sense of meaning and purpose in life the texas researchers wrote emma seppala of the stanford center for compassion and altruism research and education and author of the 2016 book the happiness track wrote people who feel more connected to others have lower levels of anxiety and depression moreover studies show they also have higher selfesteem greater empathy for others are more trusting and cooperative and as a consequence others are more open to trusting and cooperating with them in other words dr seppala explained social connectedness generates a positive feedback loop of social emotional and physical wellbeing she suggested that a societal decline in social connectedness may help to explain recent increases in reports of loneliness isolation and alienation and may be why loneliness has become a leading reason people seek psychological counseling by 2004 she wrote sociological research revealed that more than 25 percent of americans had no one to confide in they lacked a close friend with whom they felt comfortable sharing a personal problem for those seeking a healthpromoting lifestyle its not enough to focus on eating your veggies and getting regular exercise dr seppala advises dont forget to connect\n"
     ]
    }
   ],
   "source": [
    "print(cleaned_content)"
   ]
  },
  {
   "cell_type": "code",
   "execution_count": 12,
   "metadata": {},
   "outputs": [
    {
     "name": "stdout",
     "output_type": "stream",
     "text": [
      "['hurray', 'for', 'the', 'hotblack', 'coffee', 'cafe', 'in', 'toronto', 'for', 'declining', 'to', 'offer', 'wifi', 'to', 'its', 'customers', 'there', 'are', 'other', 'such', 'cafes', 'to', 'be', 'sure', 'including', 'seven', 'of', 'the', 'eight', 'new', 'york', 'city', 'locations', 'of', 'café', 'grumpy', 'but', 'its', 'hotblacks', 'reason', 'for', 'the', 'electronic', 'blackout', 'that', 'is', 'cause', 'for', 'hosannas', 'as', 'its', 'president', 'jimson', 'bienenstock', 'explained', 'his', 'aim', 'is', 'to', 'get', 'customers', 'to', 'talk', 'with', 'one', 'another', 'instead', 'of', 'being', 'buried', 'in', 'their', 'portable', 'devices', 'its', 'about', 'creating', 'a', 'social', 'vibe', 'he', 'told', 'a', 'new', 'york', 'times', 'reporter', 'were', 'a', 'vehicle', 'for', 'human', 'interaction', 'otherwise', 'its', 'just', 'a', 'commodity', 'what', 'a', 'novel', 'idea', 'perhaps', 'mr', 'bienenstock', 'instinctively', 'knows', 'what', 'medical', 'science', 'has', 'been', 'increasingly', 'demonstrating', 'for', 'decades', 'social', 'interaction', 'is', 'a', 'critically', 'important', 'contributor', 'to', 'good', 'health', 'and', 'longevity', 'personally', 'i', 'dont', 'need', 'researchbased', 'evidence', 'to', 'appreciate', 'the', 'value', 'of', 'making', 'and', 'maintaining', 'social', 'connections', 'i', 'experience', 'it', 'daily', 'during', 'my', 'morning', 'walk', 'with', 'up', 'to', 'three', 'women', 'then', 'before', 'and', 'after', 'my', 'swim', 'in', 'the', 'locker', 'room', 'of', 'the', 'ymca', 'where', 'the', 'use', 'of', 'electronic', 'devices', 'is', 'not', 'allowed', 'the', 'locker', 'room', 'experience', 'has', 'been', 'surprisingly', 'rewarding', 'ive', 'made', 'many', 'new', 'friends', 'with', 'whom', 'i', 'can', 'share', 'both', 'joys', 'and', 'sorrows', 'the', 'women', 'help', 'me', 'solve', 'problems', 'big', 'and', 'small', 'providing', 'a', 'sounding', 'board', 'advice', 'and', 'counsel', 'and', 'often', 'a', 'hearty', 'laugh', 'that', 'brightens', 'my', 'day', 'and', 'as', 'myriad', 'studies', 'have', 'shown', 'they', 'may', 'also', 'be', 'helping', 'to', 'save', 'my', 'life', 'as', 'the', 'harvard', 'womens', 'health', 'watch', 'reported', 'dozens', 'of', 'studies', 'have', 'shown', 'that', 'people', 'who', 'have', 'satisfying', 'relationships', 'with', 'family', 'friends', 'and', 'their', 'community', 'are', 'happier', 'have', 'fewer', 'health', 'problems', 'and', 'live', 'longer', 'in', 'a', 'study', 'of', '7000', 'men', 'and', 'women', 'in', 'alameda', 'county', 'calif', 'begun', 'in', '1965', 'lisa', 'f', 'berkman', 'and', 's', 'leonard', 'syme', 'found', 'that', 'people', 'who', 'were', 'disconnected', 'from', 'others', 'were', 'roughly', 'three', 'times', 'more', 'likely', 'to', 'die', 'during', 'the', 'nineyear', 'study', 'than', 'people', 'with', 'strong', 'social', 'ties', 'john', 'robbins', 'recounted', 'in', 'his', 'marvelous', 'book', 'on', 'health', 'and', 'longevity', 'healthy', 'at', '100', 'this', 'major', 'difference', 'in', 'survival', 'occurred', 'regardless', 'of', 'peoples', 'age', 'gender', 'health', 'practices', 'or', 'physical', 'health', 'status', 'in', 'fact', 'the', 'researchers', 'found', 'that', 'those', 'with', 'close', 'social', 'ties', 'and', 'unhealthful', 'lifestyles', 'such', 'as', 'smoking', 'obesity', 'and', 'lack', 'of', 'exercise', 'actually', 'lived', 'longer', 'than', 'those', 'with', 'poor', 'social', 'ties', 'but', 'more', 'healthful', 'living', 'habits', 'mr', 'robbins', 'wrote', 'however', 'he', 'quickly', 'added', 'needless', 'to', 'say', 'people', 'with', 'both', 'healthful', 'lifestyles', 'and', 'close', 'social', 'ties', 'lived', 'the', 'longest', 'of', 'all', 'in', 'another', 'study', 'published', 'in', 'the', 'new', 'england', 'journal', 'of', 'medicine', 'in', '1984', 'researchers', 'at', 'the', 'health', 'insurance', 'plan', 'of', 'greater', 'new', 'york', 'found', 'that', 'among', '2320', 'men', 'who', 'had', 'survived', 'a', 'heart', 'attack', 'those', 'with', 'strong', 'connections', 'with', 'other', 'people', 'had', 'only', 'a', 'quarter', 'the', 'risk', 'of', 'death', 'within', 'the', 'following', 'three', 'years', 'as', 'those', 'who', 'lacked', 'social', 'connectedness', 'researchers', 'at', 'duke', 'university', 'medical', 'center', 'also', 'found', 'that', 'social', 'ties', 'can', 'reduce', 'deaths', 'among', 'people', 'with', 'serious', 'medical', 'conditions', 'beverly', 'h', 'brummett', 'and', 'colleagues', 'reported', 'in', '2001', 'that', 'among', 'adults', 'with', 'coronary', 'artery', 'disease', 'the', 'mortality', 'rate', 'was', '24', 'times', 'higher', 'among', 'those', 'who', 'were', 'socially', 'isolated', 'in', 'a', 'column', 'i', 'wrote', 'in', '2013', 'called', 'shaking', 'off', 'loneliness', 'i', 'cited', 'a', 'review', 'of', 'research', 'published', 'in', '1988', 'indicating', 'that', 'social', 'isolation', 'is', 'on', 'a', 'par', 'with', 'high', 'blood', 'pressure', 'obesity', 'lack', 'of', 'exercise', 'or', 'smoking', 'as', 'a', 'risk', 'factor', 'for', 'illness', 'and', 'early', 'death', 'people', 'who', 'are', 'chronically', 'lacking', 'in', 'social', 'contacts', 'are', 'more', 'likely', 'to', 'experience', 'elevated', 'levels', 'of', 'stress', 'and', 'inflammation', 'these', 'in', 'turn', 'can', 'undermine', 'the', 'wellbeing', 'of', 'nearly', 'every', 'bodily', 'system', 'including', 'the', 'brain', 'absent', 'social', 'interactions', 'blood', 'flow', 'to', 'vital', 'organs', 'is', 'likely', 'to', 'be', 'reduced', 'and', 'immune', 'function', 'may', 'be', 'undermined', 'even', 'how', 'genes', 'are', 'expressed', 'can', 'be', 'adversely', 'affected', 'impairing', 'the', 'bodys', 'ability', 'to', 'turn', 'off', 'inflammation', 'chronic', 'inflammation', 'has', 'been', 'linked', 'to', 'heart', 'disease', 'arthritis', 'type', '2', 'diabetes', 'and', 'even', 'suicide', 'attempts', 'in', 'a', '2010', 'report', 'in', 'the', 'journal', 'of', 'health', 'and', 'social', 'behavior', 'debra', 'umberson', 'and', 'jennifer', 'karas', 'montez', 'sociology', 'researchers', 'at', 'the', 'university', 'of', 'texas', 'at', 'austin', 'cited', 'consistent', 'and', 'compelling', 'evidence', 'linking', 'a', 'low', 'quantity', 'or', 'quality', 'of', 'social', 'ties', 'with', 'a', 'host', 'of', 'conditions', 'including', 'the', 'development', 'and', 'worsening', 'of', 'cardiovascular', 'disease', 'repeat', 'heart', 'attacks', 'autoimmune', 'disorders', 'high', 'blood', 'pressure', 'cancer', 'and', 'slowed', 'wound', 'healing', 'the', 'texas', 'researchers', 'pointed', 'out', 'that', 'social', 'interactions', 'can', 'enhance', 'good', 'health', 'through', 'a', 'positive', 'influence', 'on', 'peoples', 'living', 'habits', 'for', 'example', 'if', 'none', 'of', 'your', 'friends', 'smoke', 'youll', 'be', 'less', 'likely', 'to', 'smoke', 'according', 'to', 'the', 'researchers', 'the', 'practice', 'of', 'health', 'behaviors', 'like', 'getting', 'regular', 'exercise', 'consuming', 'a', 'balanced', 'diet', 'and', 'avoiding', 'smoking', 'excessive', 'weight', 'gain', 'and', 'abuse', 'of', 'alcohol', 'and', 'drugs', 'explains', 'about', '40', 'percent', 'of', 'premature', 'mortality', 'as', 'well', 'as', 'substantial', 'morbidity', 'and', 'disability', 'in', 'the', 'united', 'states', 'lack', 'of', 'social', 'interactions', 'also', 'damages', 'mental', 'health', 'the', 'emotional', 'support', 'provided', 'by', 'social', 'connections', 'helps', 'to', 'reduce', 'the', 'damaging', 'effects', 'of', 'stress', 'and', 'can', 'foster', 'a', 'sense', 'of', 'meaning', 'and', 'purpose', 'in', 'life', 'the', 'texas', 'researchers', 'wrote', 'emma', 'seppala', 'of', 'the', 'stanford', 'center', 'for', 'compassion', 'and', 'altruism', 'research', 'and', 'education', 'and', 'author', 'of', 'the', '2016', 'book', 'the', 'happiness', 'track', 'wrote', 'people', 'who', 'feel', 'more', 'connected', 'to', 'others', 'have', 'lower', 'levels', 'of', 'anxiety', 'and', 'depression', 'moreover', 'studies', 'show', 'they', 'also', 'have', 'higher', 'selfesteem', 'greater', 'empathy', 'for', 'others', 'are', 'more', 'trusting', 'and', 'cooperative', 'and', 'as', 'a', 'consequence', 'others', 'are', 'more', 'open', 'to', 'trusting', 'and', 'cooperating', 'with', 'them', 'in', 'other', 'words', 'dr', 'seppala', 'explained', 'social', 'connectedness', 'generates', 'a', 'positive', 'feedback', 'loop', 'of', 'social', 'emotional', 'and', 'physical', 'wellbeing', 'she', 'suggested', 'that', 'a', 'societal', 'decline', 'in', 'social', 'connectedness', 'may', 'help', 'to', 'explain', 'recent', 'increases', 'in', 'reports', 'of', 'loneliness', 'isolation', 'and', 'alienation', 'and', 'may', 'be', 'why', 'loneliness', 'has', 'become', 'a', 'leading', 'reason', 'people', 'seek', 'psychological', 'counseling', 'by', '2004', 'she', 'wrote', 'sociological', 'research', 'revealed', 'that', 'more', 'than', '25', 'percent', 'of', 'americans', 'had', 'no', 'one', 'to', 'confide', 'in', 'they', 'lacked', 'a', 'close', 'friend', 'with', 'whom', 'they', 'felt', 'comfortable', 'sharing', 'a', 'personal', 'problem', 'for', 'those', 'seeking', 'a', 'healthpromoting', 'lifestyle', 'its', 'not', 'enough', 'to', 'focus', 'on', 'eating', 'your', 'veggies', 'and', 'getting', 'regular', 'exercise', 'dr', 'seppala', 'advises', 'dont', 'forget', 'to', 'connect']\n",
      "1023\n",
      "508\n"
     ]
    }
   ],
   "source": [
    "# 3. Word tokenization\n",
    "word_tokens = nltk.word_tokenize(cleaned_content)\n",
    "print(word_tokens)\n",
    "print(len(word_tokens))\n",
    "print(len(set(word_tokens)))"
   ]
  },
  {
   "cell_type": "code",
   "execution_count": 13,
   "metadata": {},
   "outputs": [
    {
     "name": "stdout",
     "output_type": "stream",
     "text": [
      "[('hurray', 'NN'), ('for', 'IN'), ('the', 'DT'), ('hotblack', 'NN'), ('coffee', 'NN'), ('cafe', 'NN'), ('in', 'IN'), ('toronto', 'NN'), ('for', 'IN'), ('declining', 'VBG'), ('to', 'TO'), ('offer', 'VB'), ('wifi', 'NN'), ('to', 'TO'), ('its', 'PRP$'), ('customers', 'NNS'), ('there', 'EX'), ('are', 'VBP'), ('other', 'JJ'), ('such', 'JJ'), ('cafes', 'NNS'), ('to', 'TO'), ('be', 'VB'), ('sure', 'JJ'), ('including', 'VBG'), ('seven', 'CD'), ('of', 'IN'), ('the', 'DT'), ('eight', 'CD'), ('new', 'JJ'), ('york', 'NN'), ('city', 'NN'), ('locations', 'NNS'), ('of', 'IN'), ('café', 'NN'), ('grumpy', 'NN'), ('but', 'CC'), ('its', 'PRP$'), ('hotblacks', 'NNS'), ('reason', 'NN'), ('for', 'IN'), ('the', 'DT'), ('electronic', 'JJ'), ('blackout', 'NN'), ('that', 'WDT'), ('is', 'VBZ'), ('cause', 'NN'), ('for', 'IN'), ('hosannas', 'NN'), ('as', 'IN'), ('its', 'PRP$'), ('president', 'NN'), ('jimson', 'NN'), ('bienenstock', 'NN'), ('explained', 'VBD'), ('his', 'PRP$'), ('aim', 'NN'), ('is', 'VBZ'), ('to', 'TO'), ('get', 'VB'), ('customers', 'NNS'), ('to', 'TO'), ('talk', 'VB'), ('with', 'IN'), ('one', 'CD'), ('another', 'DT'), ('instead', 'RB'), ('of', 'IN'), ('being', 'VBG'), ('buried', 'VBN'), ('in', 'IN'), ('their', 'PRP$'), ('portable', 'JJ'), ('devices', 'NNS'), ('its', 'PRP$'), ('about', 'IN'), ('creating', 'VBG'), ('a', 'DT'), ('social', 'JJ'), ('vibe', 'NN'), ('he', 'PRP'), ('told', 'VBD'), ('a', 'DT'), ('new', 'JJ'), ('york', 'NN'), ('times', 'NNS'), ('reporter', 'VBP'), ('were', 'VBD'), ('a', 'DT'), ('vehicle', 'NN'), ('for', 'IN'), ('human', 'JJ'), ('interaction', 'NN'), ('otherwise', 'RB'), ('its', 'PRP$'), ('just', 'RB'), ('a', 'DT'), ('commodity', 'NN'), ('what', 'WP'), ('a', 'DT'), ('novel', 'JJ'), ('idea', 'NN'), ('perhaps', 'RB'), ('mr', 'JJ'), ('bienenstock', 'NN'), ('instinctively', 'RB'), ('knows', 'VBZ'), ('what', 'WP'), ('medical', 'JJ'), ('science', 'NN'), ('has', 'VBZ'), ('been', 'VBN'), ('increasingly', 'RB'), ('demonstrating', 'VBG'), ('for', 'IN'), ('decades', 'NNS'), ('social', 'JJ'), ('interaction', 'NN'), ('is', 'VBZ'), ('a', 'DT'), ('critically', 'RB'), ('important', 'JJ'), ('contributor', 'NN'), ('to', 'TO'), ('good', 'JJ'), ('health', 'NN'), ('and', 'CC'), ('longevity', 'NN'), ('personally', 'RB'), ('i', 'JJ'), ('dont', 'VBP'), ('need', 'VBP'), ('researchbased', 'VBN'), ('evidence', 'NN'), ('to', 'TO'), ('appreciate', 'VB'), ('the', 'DT'), ('value', 'NN'), ('of', 'IN'), ('making', 'VBG'), ('and', 'CC'), ('maintaining', 'VBG'), ('social', 'JJ'), ('connections', 'NNS'), ('i', 'VBP'), ('experience', 'VBP'), ('it', 'PRP'), ('daily', 'RB'), ('during', 'IN'), ('my', 'PRP$'), ('morning', 'NN'), ('walk', 'NN'), ('with', 'IN'), ('up', 'IN'), ('to', 'TO'), ('three', 'CD'), ('women', 'NNS'), ('then', 'RB'), ('before', 'IN'), ('and', 'CC'), ('after', 'IN'), ('my', 'PRP$'), ('swim', 'NN'), ('in', 'IN'), ('the', 'DT'), ('locker', 'NN'), ('room', 'NN'), ('of', 'IN'), ('the', 'DT'), ('ymca', 'NN'), ('where', 'WRB'), ('the', 'DT'), ('use', 'NN'), ('of', 'IN'), ('electronic', 'JJ'), ('devices', 'NNS'), ('is', 'VBZ'), ('not', 'RB'), ('allowed', 'VBN'), ('the', 'DT'), ('locker', 'NN'), ('room', 'NN'), ('experience', 'NN'), ('has', 'VBZ'), ('been', 'VBN'), ('surprisingly', 'RB'), ('rewarding', 'VBG'), ('ive', 'JJ'), ('made', 'VBN'), ('many', 'JJ'), ('new', 'JJ'), ('friends', 'NNS'), ('with', 'IN'), ('whom', 'WP'), ('i', 'NN'), ('can', 'MD'), ('share', 'NN'), ('both', 'DT'), ('joys', 'NNS'), ('and', 'CC'), ('sorrows', 'VBZ'), ('the', 'DT'), ('women', 'NNS'), ('help', 'VB'), ('me', 'PRP'), ('solve', 'VB'), ('problems', 'NNS'), ('big', 'JJ'), ('and', 'CC'), ('small', 'JJ'), ('providing', 'VBG'), ('a', 'DT'), ('sounding', 'VBG'), ('board', 'NN'), ('advice', 'NN'), ('and', 'CC'), ('counsel', 'NN'), ('and', 'CC'), ('often', 'RB'), ('a', 'DT'), ('hearty', 'JJ'), ('laugh', 'NN'), ('that', 'IN'), ('brightens', 'NNS'), ('my', 'PRP$'), ('day', 'NN'), ('and', 'CC'), ('as', 'IN'), ('myriad', 'JJ'), ('studies', 'NNS'), ('have', 'VBP'), ('shown', 'VBN'), ('they', 'PRP'), ('may', 'MD'), ('also', 'RB'), ('be', 'VB'), ('helping', 'VBG'), ('to', 'TO'), ('save', 'VB'), ('my', 'PRP$'), ('life', 'NN'), ('as', 'IN'), ('the', 'DT'), ('harvard', 'NN'), ('womens', 'VBZ'), ('health', 'NN'), ('watch', 'NN'), ('reported', 'VBD'), ('dozens', 'NNS'), ('of', 'IN'), ('studies', 'NNS'), ('have', 'VBP'), ('shown', 'VBN'), ('that', 'IN'), ('people', 'NNS'), ('who', 'WP'), ('have', 'VBP'), ('satisfying', 'VBG'), ('relationships', 'NNS'), ('with', 'IN'), ('family', 'NN'), ('friends', 'NNS'), ('and', 'CC'), ('their', 'PRP$'), ('community', 'NN'), ('are', 'VBP'), ('happier', 'VBN'), ('have', 'VBP'), ('fewer', 'JJR'), ('health', 'NN'), ('problems', 'NNS'), ('and', 'CC'), ('live', 'JJ'), ('longer', 'NN'), ('in', 'IN'), ('a', 'DT'), ('study', 'NN'), ('of', 'IN'), ('7000', 'CD'), ('men', 'NNS'), ('and', 'CC'), ('women', 'NNS'), ('in', 'IN'), ('alameda', 'JJ'), ('county', 'NN'), ('calif', 'NN'), ('begun', 'VBN'), ('in', 'IN'), ('1965', 'CD'), ('lisa', 'NN'), ('f', 'JJ'), ('berkman', 'NN'), ('and', 'CC'), ('s', 'VB'), ('leonard', 'NN'), ('syme', 'NN'), ('found', 'VBD'), ('that', 'IN'), ('people', 'NNS'), ('who', 'WP'), ('were', 'VBD'), ('disconnected', 'VBN'), ('from', 'IN'), ('others', 'NNS'), ('were', 'VBD'), ('roughly', 'RB'), ('three', 'CD'), ('times', 'NNS'), ('more', 'RBR'), ('likely', 'JJ'), ('to', 'TO'), ('die', 'VB'), ('during', 'IN'), ('the', 'DT'), ('nineyear', 'NN'), ('study', 'NN'), ('than', 'IN'), ('people', 'NNS'), ('with', 'IN'), ('strong', 'JJ'), ('social', 'JJ'), ('ties', 'NNS'), ('john', 'VBP'), ('robbins', 'NNS'), ('recounted', 'VBN'), ('in', 'IN'), ('his', 'PRP$'), ('marvelous', 'JJ'), ('book', 'NN'), ('on', 'IN'), ('health', 'NN'), ('and', 'CC'), ('longevity', 'NN'), ('healthy', 'JJ'), ('at', 'IN'), ('100', 'CD'), ('this', 'DT'), ('major', 'JJ'), ('difference', 'NN'), ('in', 'IN'), ('survival', 'NN'), ('occurred', 'VBD'), ('regardless', 'RB'), ('of', 'IN'), ('peoples', 'NNS'), ('age', 'NN'), ('gender', 'NN'), ('health', 'NN'), ('practices', 'NNS'), ('or', 'CC'), ('physical', 'JJ'), ('health', 'NN'), ('status', 'NN'), ('in', 'IN'), ('fact', 'NN'), ('the', 'DT'), ('researchers', 'NNS'), ('found', 'VBD'), ('that', 'IN'), ('those', 'DT'), ('with', 'IN'), ('close', 'JJ'), ('social', 'JJ'), ('ties', 'NNS'), ('and', 'CC'), ('unhealthful', 'JJ'), ('lifestyles', 'NNS'), ('such', 'JJ'), ('as', 'IN'), ('smoking', 'VBG'), ('obesity', 'NN'), ('and', 'CC'), ('lack', 'NN'), ('of', 'IN'), ('exercise', 'NN'), ('actually', 'RB'), ('lived', 'VBD'), ('longer', 'JJR'), ('than', 'IN'), ('those', 'DT'), ('with', 'IN'), ('poor', 'JJ'), ('social', 'JJ'), ('ties', 'NNS'), ('but', 'CC'), ('more', 'JJR'), ('healthful', 'JJ'), ('living', 'NN'), ('habits', 'NNS'), ('mr', 'VBP'), ('robbins', 'NNS'), ('wrote', 'VBD'), ('however', 'RB'), ('he', 'PRP'), ('quickly', 'RB'), ('added', 'VBD'), ('needless', 'JJ'), ('to', 'TO'), ('say', 'VB'), ('people', 'NNS'), ('with', 'IN'), ('both', 'DT'), ('healthful', 'JJ'), ('lifestyles', 'NNS'), ('and', 'CC'), ('close', 'JJ'), ('social', 'JJ'), ('ties', 'NNS'), ('lived', 'VBD'), ('the', 'DT'), ('longest', 'JJS'), ('of', 'IN'), ('all', 'DT'), ('in', 'IN'), ('another', 'DT'), ('study', 'NN'), ('published', 'VBN'), ('in', 'IN'), ('the', 'DT'), ('new', 'JJ'), ('england', 'JJ'), ('journal', 'NN'), ('of', 'IN'), ('medicine', 'NN'), ('in', 'IN'), ('1984', 'CD'), ('researchers', 'NNS'), ('at', 'IN'), ('the', 'DT'), ('health', 'NN'), ('insurance', 'NN'), ('plan', 'NN'), ('of', 'IN'), ('greater', 'JJR'), ('new', 'JJ'), ('york', 'NN'), ('found', 'VBD'), ('that', 'IN'), ('among', 'IN'), ('2320', 'CD'), ('men', 'NNS'), ('who', 'WP'), ('had', 'VBD'), ('survived', 'VBN'), ('a', 'DT'), ('heart', 'NN'), ('attack', 'NN'), ('those', 'DT'), ('with', 'IN'), ('strong', 'JJ'), ('connections', 'NNS'), ('with', 'IN'), ('other', 'JJ'), ('people', 'NNS'), ('had', 'VBD'), ('only', 'RB'), ('a', 'DT'), ('quarter', 'NN'), ('the', 'DT'), ('risk', 'NN'), ('of', 'IN'), ('death', 'NN'), ('within', 'IN'), ('the', 'DT'), ('following', 'JJ'), ('three', 'CD'), ('years', 'NNS'), ('as', 'IN'), ('those', 'DT'), ('who', 'WP'), ('lacked', 'VBD'), ('social', 'JJ'), ('connectedness', 'NN'), ('researchers', 'NNS'), ('at', 'IN'), ('duke', 'NN'), ('university', 'NN'), ('medical', 'JJ'), ('center', 'NN'), ('also', 'RB'), ('found', 'VBD'), ('that', 'IN'), ('social', 'JJ'), ('ties', 'NNS'), ('can', 'MD'), ('reduce', 'VB'), ('deaths', 'NNS'), ('among', 'IN'), ('people', 'NNS'), ('with', 'IN'), ('serious', 'JJ'), ('medical', 'JJ'), ('conditions', 'NNS'), ('beverly', 'RB'), ('h', 'VBP'), ('brummett', 'NNS'), ('and', 'CC'), ('colleagues', 'NNS'), ('reported', 'VBN'), ('in', 'IN'), ('2001', 'CD'), ('that', 'IN'), ('among', 'IN'), ('adults', 'NNS'), ('with', 'IN'), ('coronary', 'JJ'), ('artery', 'NN'), ('disease', 'NN'), ('the', 'DT'), ('mortality', 'NN'), ('rate', 'NN'), ('was', 'VBD'), ('24', 'CD'), ('times', 'NNS'), ('higher', 'RBR'), ('among', 'IN'), ('those', 'DT'), ('who', 'WP'), ('were', 'VBD'), ('socially', 'RB'), ('isolated', 'VBN'), ('in', 'IN'), ('a', 'DT'), ('column', 'NN'), ('i', 'JJ'), ('wrote', 'VBD'), ('in', 'IN'), ('2013', 'CD'), ('called', 'VBD'), ('shaking', 'VBG'), ('off', 'RP'), ('loneliness', 'NN'), ('i', 'NN'), ('cited', 'VBD'), ('a', 'DT'), ('review', 'NN'), ('of', 'IN'), ('research', 'NN'), ('published', 'VBN'), ('in', 'IN'), ('1988', 'CD'), ('indicating', 'NN'), ('that', 'WDT'), ('social', 'JJ'), ('isolation', 'NN'), ('is', 'VBZ'), ('on', 'IN'), ('a', 'DT'), ('par', 'NN'), ('with', 'IN'), ('high', 'JJ'), ('blood', 'NN'), ('pressure', 'NN'), ('obesity', 'NN'), ('lack', 'NN'), ('of', 'IN'), ('exercise', 'NN'), ('or', 'CC'), ('smoking', 'NN'), ('as', 'IN'), ('a', 'DT'), ('risk', 'NN'), ('factor', 'NN'), ('for', 'IN'), ('illness', 'NN'), ('and', 'CC'), ('early', 'JJ'), ('death', 'NN'), ('people', 'NNS'), ('who', 'WP'), ('are', 'VBP'), ('chronically', 'RB'), ('lacking', 'VBG'), ('in', 'IN'), ('social', 'JJ'), ('contacts', 'NNS'), ('are', 'VBP'), ('more', 'RBR'), ('likely', 'JJ'), ('to', 'TO'), ('experience', 'VB'), ('elevated', 'JJ'), ('levels', 'NNS'), ('of', 'IN'), ('stress', 'NN'), ('and', 'CC'), ('inflammation', 'NN'), ('these', 'DT'), ('in', 'IN'), ('turn', 'NN'), ('can', 'MD'), ('undermine', 'VB'), ('the', 'DT'), ('wellbeing', 'NN'), ('of', 'IN'), ('nearly', 'RB'), ('every', 'DT'), ('bodily', 'NN'), ('system', 'NN'), ('including', 'VBG'), ('the', 'DT'), ('brain', 'NN'), ('absent', 'JJ'), ('social', 'JJ'), ('interactions', 'NNS'), ('blood', 'VBD'), ('flow', 'NN'), ('to', 'TO'), ('vital', 'JJ'), ('organs', 'NNS'), ('is', 'VBZ'), ('likely', 'JJ'), ('to', 'TO'), ('be', 'VB'), ('reduced', 'VBN'), ('and', 'CC'), ('immune', 'JJ'), ('function', 'NN'), ('may', 'MD'), ('be', 'VB'), ('undermined', 'VBN'), ('even', 'RB'), ('how', 'WRB'), ('genes', 'NNS'), ('are', 'VBP'), ('expressed', 'VBN'), ('can', 'MD'), ('be', 'VB'), ('adversely', 'RB'), ('affected', 'JJ'), ('impairing', 'VBG'), ('the', 'DT'), ('bodys', 'NN'), ('ability', 'NN'), ('to', 'TO'), ('turn', 'VB'), ('off', 'RP'), ('inflammation', 'NN'), ('chronic', 'JJ'), ('inflammation', 'NN'), ('has', 'VBZ'), ('been', 'VBN'), ('linked', 'VBN'), ('to', 'TO'), ('heart', 'NN'), ('disease', 'NN'), ('arthritis', 'NN'), ('type', 'NN'), ('2', 'CD'), ('diabetes', 'NNS'), ('and', 'CC'), ('even', 'RB'), ('suicide', 'VB'), ('attempts', 'NNS'), ('in', 'IN'), ('a', 'DT'), ('2010', 'CD'), ('report', 'NN'), ('in', 'IN'), ('the', 'DT'), ('journal', 'NN'), ('of', 'IN'), ('health', 'NN'), ('and', 'CC'), ('social', 'JJ'), ('behavior', 'NN'), ('debra', 'NN'), ('umberson', 'NN'), ('and', 'CC'), ('jennifer', 'NN'), ('karas', 'NNS'), ('montez', 'VBP'), ('sociology', 'NN'), ('researchers', 'NNS'), ('at', 'IN'), ('the', 'DT'), ('university', 'NN'), ('of', 'IN'), ('texas', 'NN'), ('at', 'IN'), ('austin', 'NN'), ('cited', 'VBD'), ('consistent', 'JJ'), ('and', 'CC'), ('compelling', 'JJ'), ('evidence', 'NN'), ('linking', 'VBG'), ('a', 'DT'), ('low', 'JJ'), ('quantity', 'NN'), ('or', 'CC'), ('quality', 'NN'), ('of', 'IN'), ('social', 'JJ'), ('ties', 'NNS'), ('with', 'IN'), ('a', 'DT'), ('host', 'NN'), ('of', 'IN'), ('conditions', 'NNS'), ('including', 'VBG'), ('the', 'DT'), ('development', 'NN'), ('and', 'CC'), ('worsening', 'NN'), ('of', 'IN'), ('cardiovascular', 'JJ'), ('disease', 'NN'), ('repeat', 'NN'), ('heart', 'NN'), ('attacks', 'VBZ'), ('autoimmune', 'JJ'), ('disorders', 'NNS'), ('high', 'JJ'), ('blood', 'NN'), ('pressure', 'NN'), ('cancer', 'NN'), ('and', 'CC'), ('slowed', 'VBD'), ('wound', 'IN'), ('healing', 'VBG'), ('the', 'DT'), ('texas', 'NN'), ('researchers', 'NNS'), ('pointed', 'VBD'), ('out', 'RP'), ('that', 'IN'), ('social', 'JJ'), ('interactions', 'NNS'), ('can', 'MD'), ('enhance', 'VB'), ('good', 'JJ'), ('health', 'NN'), ('through', 'IN'), ('a', 'DT'), ('positive', 'JJ'), ('influence', 'NN'), ('on', 'IN'), ('peoples', 'NNS'), ('living', 'VBG'), ('habits', 'NNS'), ('for', 'IN'), ('example', 'NN'), ('if', 'IN'), ('none', 'NN'), ('of', 'IN'), ('your', 'PRP$'), ('friends', 'NNS'), ('smoke', 'VBP'), ('youll', 'RB'), ('be', 'VB'), ('less', 'RBR'), ('likely', 'JJ'), ('to', 'TO'), ('smoke', 'VB'), ('according', 'VBG'), ('to', 'TO'), ('the', 'DT'), ('researchers', 'NNS'), ('the', 'DT'), ('practice', 'NN'), ('of', 'IN'), ('health', 'NN'), ('behaviors', 'NNS'), ('like', 'IN'), ('getting', 'VBG'), ('regular', 'JJ'), ('exercise', 'NN'), ('consuming', 'VBG'), ('a', 'DT'), ('balanced', 'JJ'), ('diet', 'NN'), ('and', 'CC'), ('avoiding', 'VBG'), ('smoking', 'VBG'), ('excessive', 'JJ'), ('weight', 'NN'), ('gain', 'NN'), ('and', 'CC'), ('abuse', 'NN'), ('of', 'IN'), ('alcohol', 'NN'), ('and', 'CC'), ('drugs', 'NNS'), ('explains', 'VBZ'), ('about', 'IN'), ('40', 'CD'), ('percent', 'NN'), ('of', 'IN'), ('premature', 'JJ'), ('mortality', 'NN'), ('as', 'RB'), ('well', 'RB'), ('as', 'IN'), ('substantial', 'JJ'), ('morbidity', 'NN'), ('and', 'CC'), ('disability', 'NN'), ('in', 'IN'), ('the', 'DT'), ('united', 'JJ'), ('states', 'NNS'), ('lack', 'NN'), ('of', 'IN'), ('social', 'JJ'), ('interactions', 'NNS'), ('also', 'RB'), ('damages', 'NNS'), ('mental', 'VBP'), ('health', 'NN'), ('the', 'DT'), ('emotional', 'JJ'), ('support', 'NN'), ('provided', 'VBN'), ('by', 'IN'), ('social', 'JJ'), ('connections', 'NNS'), ('helps', 'VBZ'), ('to', 'TO'), ('reduce', 'VB'), ('the', 'DT'), ('damaging', 'JJ'), ('effects', 'NNS'), ('of', 'IN'), ('stress', 'NN'), ('and', 'CC'), ('can', 'MD'), ('foster', 'VB'), ('a', 'DT'), ('sense', 'NN'), ('of', 'IN'), ('meaning', 'NN'), ('and', 'CC'), ('purpose', 'NN'), ('in', 'IN'), ('life', 'NN'), ('the', 'DT'), ('texas', 'NN'), ('researchers', 'NNS'), ('wrote', 'VBD'), ('emma', 'JJ'), ('seppala', 'NN'), ('of', 'IN'), ('the', 'DT'), ('stanford', 'NN'), ('center', 'NN'), ('for', 'IN'), ('compassion', 'NN'), ('and', 'CC'), ('altruism', 'NN'), ('research', 'NN'), ('and', 'CC'), ('education', 'NN'), ('and', 'CC'), ('author', 'NN'), ('of', 'IN'), ('the', 'DT'), ('2016', 'CD'), ('book', 'NN'), ('the', 'DT'), ('happiness', 'NN'), ('track', 'NN'), ('wrote', 'VBD'), ('people', 'NNS'), ('who', 'WP'), ('feel', 'VBP'), ('more', 'RBR'), ('connected', 'JJ'), ('to', 'TO'), ('others', 'NNS'), ('have', 'VBP'), ('lower', 'JJR'), ('levels', 'NNS'), ('of', 'IN'), ('anxiety', 'NN'), ('and', 'CC'), ('depression', 'NN'), ('moreover', 'NN'), ('studies', 'NNS'), ('show', 'VBP'), ('they', 'PRP'), ('also', 'RB'), ('have', 'VBP'), ('higher', 'JJR'), ('selfesteem', 'NN'), ('greater', 'JJR'), ('empathy', 'NN'), ('for', 'IN'), ('others', 'NNS'), ('are', 'VBP'), ('more', 'RBR'), ('trusting', 'JJ'), ('and', 'CC'), ('cooperative', 'JJ'), ('and', 'CC'), ('as', 'IN'), ('a', 'DT'), ('consequence', 'NN'), ('others', 'NNS'), ('are', 'VBP'), ('more', 'RBR'), ('open', 'JJ'), ('to', 'TO'), ('trusting', 'VBG'), ('and', 'CC'), ('cooperating', 'VBG'), ('with', 'IN'), ('them', 'PRP'), ('in', 'IN'), ('other', 'JJ'), ('words', 'NNS'), ('dr', 'VBP'), ('seppala', 'NN'), ('explained', 'VBN'), ('social', 'JJ'), ('connectedness', 'NN'), ('generates', 'VBZ'), ('a', 'DT'), ('positive', 'JJ'), ('feedback', 'NN'), ('loop', 'NN'), ('of', 'IN'), ('social', 'JJ'), ('emotional', 'JJ'), ('and', 'CC'), ('physical', 'JJ'), ('wellbeing', 'NN'), ('she', 'PRP'), ('suggested', 'VBD'), ('that', 'IN'), ('a', 'DT'), ('societal', 'JJ'), ('decline', 'NN'), ('in', 'IN'), ('social', 'JJ'), ('connectedness', 'NN'), ('may', 'MD'), ('help', 'VB'), ('to', 'TO'), ('explain', 'VB'), ('recent', 'JJ'), ('increases', 'NNS'), ('in', 'IN'), ('reports', 'NNS'), ('of', 'IN'), ('loneliness', 'JJ'), ('isolation', 'NN'), ('and', 'CC'), ('alienation', 'NN'), ('and', 'CC'), ('may', 'MD'), ('be', 'VB'), ('why', 'WRB'), ('loneliness', 'NN'), ('has', 'VBZ'), ('become', 'VBN'), ('a', 'DT'), ('leading', 'JJ'), ('reason', 'NN'), ('people', 'NNS'), ('seek', 'VBP'), ('psychological', 'JJ'), ('counseling', 'NN'), ('by', 'IN'), ('2004', 'CD'), ('she', 'PRP'), ('wrote', 'VBD'), ('sociological', 'JJ'), ('research', 'NN'), ('revealed', 'VBD'), ('that', 'IN'), ('more', 'JJR'), ('than', 'IN'), ('25', 'CD'), ('percent', 'NN'), ('of', 'IN'), ('americans', 'NNS'), ('had', 'VBD'), ('no', 'DT'), ('one', 'NN'), ('to', 'TO'), ('confide', 'VB'), ('in', 'IN'), ('they', 'PRP'), ('lacked', 'VBD'), ('a', 'DT'), ('close', 'JJ'), ('friend', 'NN'), ('with', 'IN'), ('whom', 'WP'), ('they', 'PRP'), ('felt', 'VBD'), ('comfortable', 'JJ'), ('sharing', 'VBG'), ('a', 'DT'), ('personal', 'JJ'), ('problem', 'NN'), ('for', 'IN'), ('those', 'DT'), ('seeking', 'VBG'), ('a', 'DT'), ('healthpromoting', 'NN'), ('lifestyle', 'NN'), ('its', 'PRP$'), ('not', 'RB'), ('enough', 'RB'), ('to', 'TO'), ('focus', 'VB'), ('on', 'IN'), ('eating', 'VBG'), ('your', 'PRP$'), ('veggies', 'NNS'), ('and', 'CC'), ('getting', 'VBG'), ('regular', 'JJ'), ('exercise', 'NN'), ('dr', 'NN'), ('seppala', 'NN'), ('advises', 'VBZ'), ('dont', 'JJ'), ('forget', 'NN'), ('to', 'TO'), ('connect', 'VB')]\n"
     ]
    }
   ],
   "source": [
    "# 4. POS tagging\n",
    "# 영어의 경우는 nltk에서 제공하는 pos_tag() 함수를 사용해서 품사 태깅을 할 수 있습니다.\n",
    "# pos_tag()의 입력값으로는 단어의 리스트가 들어가야 합니다.\n",
    "tokens_pos = nltk.pos_tag(word_tokens)\n",
    "print(tokens_pos)"
   ]
  },
  {
   "cell_type": "code",
   "execution_count": 14,
   "metadata": {
    "scrolled": true
   },
   "outputs": [
    {
     "name": "stdout",
     "output_type": "stream",
     "text": [
      "['hurray', 'hotblack', 'coffee', 'cafe', 'toronto', 'wifi', 'customers', 'cafes', 'york', 'city', 'locations', 'café', 'grumpy', 'hotblacks', 'reason', 'blackout', 'cause', 'hosannas', 'president', 'jimson', 'bienenstock', 'aim', 'customers', 'devices', 'vibe', 'york', 'times', 'vehicle', 'interaction', 'commodity', 'idea', 'bienenstock', 'science', 'decades', 'interaction', 'contributor', 'health', 'longevity', 'evidence', 'value', 'connections', 'morning', 'walk', 'women', 'swim', 'locker', 'room', 'ymca', 'use', 'devices', 'locker', 'room', 'experience', 'friends', 'i', 'share', 'joys', 'women', 'problems', 'board', 'advice', 'counsel', 'laugh', 'brightens', 'day', 'studies', 'life', 'harvard', 'health', 'watch', 'dozens', 'studies', 'people', 'relationships', 'family', 'friends', 'community', 'health', 'problems', 'longer', 'study', 'men', 'women', 'county', 'calif', 'lisa', 'berkman', 'leonard', 'syme', 'people', 'others', 'times', 'nineyear', 'study', 'people', 'ties', 'robbins', 'book', 'health', 'longevity', 'difference', 'survival', 'peoples', 'age', 'gender', 'health', 'practices', 'health', 'status', 'fact', 'researchers', 'ties', 'lifestyles', 'obesity', 'lack', 'exercise', 'ties', 'living', 'habits', 'robbins', 'people', 'lifestyles', 'ties', 'study', 'journal', 'medicine', 'researchers', 'health', 'insurance', 'plan', 'york', 'men', 'heart', 'attack', 'connections', 'people', 'quarter', 'risk', 'death', 'years', 'connectedness', 'researchers', 'duke', 'university', 'center', 'ties', 'deaths', 'people', 'conditions', 'brummett', 'colleagues', 'adults', 'artery', 'disease', 'mortality', 'rate', 'times', 'column', 'loneliness', 'i', 'review', 'research', 'indicating', 'isolation', 'par', 'blood', 'pressure', 'obesity', 'lack', 'exercise', 'smoking', 'risk', 'factor', 'illness', 'death', 'people', 'contacts', 'levels', 'stress', 'inflammation', 'turn', 'wellbeing', 'bodily', 'system', 'brain', 'interactions', 'flow', 'organs', 'function', 'genes', 'bodys', 'ability', 'inflammation', 'inflammation', 'heart', 'disease', 'arthritis', 'type', 'diabetes', 'attempts', 'report', 'journal', 'health', 'behavior', 'debra', 'umberson', 'jennifer', 'karas', 'sociology', 'researchers', 'university', 'texas', 'austin', 'evidence', 'quantity', 'quality', 'ties', 'host', 'conditions', 'development', 'worsening', 'disease', 'repeat', 'heart', 'disorders', 'blood', 'pressure', 'cancer', 'texas', 'researchers', 'interactions', 'health', 'influence', 'peoples', 'habits', 'example', 'none', 'friends', 'researchers', 'practice', 'health', 'behaviors', 'exercise', 'diet', 'weight', 'gain', 'abuse', 'alcohol', 'drugs', 'percent', 'mortality', 'morbidity', 'disability', 'states', 'lack', 'interactions', 'damages', 'health', 'support', 'connections', 'effects', 'stress', 'sense', 'meaning', 'purpose', 'life', 'texas', 'researchers', 'seppala', 'stanford', 'center', 'compassion', 'altruism', 'research', 'education', 'author', 'book', 'happiness', 'track', 'people', 'others', 'levels', 'anxiety', 'depression', 'moreover', 'studies', 'selfesteem', 'empathy', 'others', 'consequence', 'others', 'words', 'seppala', 'connectedness', 'feedback', 'loop', 'wellbeing', 'decline', 'connectedness', 'increases', 'reports', 'isolation', 'alienation', 'loneliness', 'reason', 'people', 'counseling', 'research', 'percent', 'americans', 'one', 'friend', 'problem', 'healthpromoting', 'lifestyle', 'veggies', 'exercise', 'dr', 'seppala', 'forget']\n"
     ]
    }
   ],
   "source": [
    "# 명사 단어만 추출하기\n",
    "# 품사 정보: https://www.ling.upenn.edu/courses/Fall_2003/ling001/penn_treebank_pos.html\n",
    "NN_words = []\n",
    "for word, pos in tokens_pos:\n",
    "    if 'NN' in pos:\n",
    "        NN_words.append(word)\n",
    "print(NN_words)"
   ]
  },
  {
   "cell_type": "code",
   "execution_count": 15,
   "metadata": {
    "scrolled": true
   },
   "outputs": [
    {
     "name": "stdout",
     "output_type": "stream",
     "text": [
      "['hurray', 'hotblack', 'coffee', 'cafe', 'toronto', 'wifi', 'customer', 'cafe', 'york', 'city', 'location', 'café', 'grumpy', 'hotblacks', 'reason', 'blackout', 'cause', 'hosanna', 'president', 'jimson', 'bienenstock', 'aim', 'customer', 'device', 'vibe', 'york', 'time', 'vehicle', 'interaction', 'commodity', 'idea', 'bienenstock', 'science', 'decade', 'interaction', 'contributor', 'health', 'longevity', 'evidence', 'value', 'connection', 'morning', 'walk', 'woman', 'swim', 'locker', 'room', 'ymca', 'use', 'device', 'locker', 'room', 'experience', 'friend', 'i', 'share', 'joy', 'woman', 'problem', 'board', 'advice', 'counsel', 'laugh', 'brightens', 'day', 'study', 'life', 'harvard', 'health', 'watch', 'dozen', 'study', 'people', 'relationship', 'family', 'friend', 'community', 'health', 'problem', 'longer', 'study', 'men', 'woman', 'county', 'calif', 'lisa', 'berkman', 'leonard', 'syme', 'people', 'others', 'time', 'nineyear', 'study', 'people', 'tie', 'robbins', 'book', 'health', 'longevity', 'difference', 'survival', 'people', 'age', 'gender', 'health', 'practice', 'health', 'status', 'fact', 'researcher', 'tie', 'lifestyle', 'obesity', 'lack', 'exercise', 'tie', 'living', 'habit', 'robbins', 'people', 'lifestyle', 'tie', 'study', 'journal', 'medicine', 'researcher', 'health', 'insurance', 'plan', 'york', 'men', 'heart', 'attack', 'connection', 'people', 'quarter', 'risk', 'death', 'year', 'connectedness', 'researcher', 'duke', 'university', 'center', 'tie', 'death', 'people', 'condition', 'brummett', 'colleague', 'adult', 'artery', 'disease', 'mortality', 'rate', 'time', 'column', 'loneliness', 'i', 'review', 'research', 'indicating', 'isolation', 'par', 'blood', 'pressure', 'obesity', 'lack', 'exercise', 'smoking', 'risk', 'factor', 'illness', 'death', 'people', 'contact', 'level', 'stress', 'inflammation', 'turn', 'wellbeing', 'bodily', 'system', 'brain', 'interaction', 'flow', 'organ', 'function', 'gene', 'body', 'ability', 'inflammation', 'inflammation', 'heart', 'disease', 'arthritis', 'type', 'diabetes', 'attempt', 'report', 'journal', 'health', 'behavior', 'debra', 'umberson', 'jennifer', 'karas', 'sociology', 'researcher', 'university', 'texas', 'austin', 'evidence', 'quantity', 'quality', 'tie', 'host', 'condition', 'development', 'worsening', 'disease', 'repeat', 'heart', 'disorder', 'blood', 'pressure', 'cancer', 'texas', 'researcher', 'interaction', 'health', 'influence', 'people', 'habit', 'example', 'none', 'friend', 'researcher', 'practice', 'health', 'behavior', 'exercise', 'diet', 'weight', 'gain', 'abuse', 'alcohol', 'drug', 'percent', 'mortality', 'morbidity', 'disability', 'state', 'lack', 'interaction', 'damage', 'health', 'support', 'connection', 'effect', 'stress', 'sense', 'meaning', 'purpose', 'life', 'texas', 'researcher', 'seppala', 'stanford', 'center', 'compassion', 'altruism', 'research', 'education', 'author', 'book', 'happiness', 'track', 'people', 'others', 'level', 'anxiety', 'depression', 'moreover', 'study', 'selfesteem', 'empathy', 'others', 'consequence', 'others', 'word', 'seppala', 'connectedness', 'feedback', 'loop', 'wellbeing', 'decline', 'connectedness', 'increase', 'report', 'isolation', 'alienation', 'loneliness', 'reason', 'people', 'counseling', 'research', 'percent', 'american', 'one', 'friend', 'problem', 'healthpromoting', 'lifestyle', 'veggie', 'exercise', 'dr', 'seppala', 'forget']\n"
     ]
    }
   ],
   "source": [
    "# Lemmatization\n",
    "# nltk에서 제공되는 WordNetLemmatizer을 이용하는 경우 \n",
    "# 명사의 경우는 보통 복수 -> 단수 형태로 변형\n",
    "# for more details, please see https://textminingonline.com/dive-into-nltk-part-iv-stemming-and-lemmatization\n",
    "wlem = nltk.WordNetLemmatizer()\n",
    "lemmatized_words = []\n",
    "for word in NN_words:\n",
    "    new_word = wlem.lemmatize(word)\n",
    "    lemmatized_words.append(new_word)\n",
    "# lemmatized_words = [wlem.lemmatize(word) for word in NN_words]\n",
    "\n",
    "print(lemmatized_words)"
   ]
  },
  {
   "cell_type": "code",
   "execution_count": 16,
   "metadata": {},
   "outputs": [
    {
     "name": "stdout",
     "output_type": "stream",
     "text": [
      "['i', 'me', 'my', 'myself', 'we', 'our', 'ours', 'ourselves', 'you', \"you're\", \"you've\", \"you'll\", \"you'd\", 'your', 'yours', 'yourself', 'yourselves', 'he', 'him', 'his', 'himself', 'she', \"she's\", 'her', 'hers', 'herself', 'it', \"it's\", 'its', 'itself', 'they', 'them', 'their', 'theirs', 'themselves', 'what', 'which', 'who', 'whom', 'this', 'that', \"that'll\", 'these', 'those', 'am', 'is', 'are', 'was', 'were', 'be', 'been', 'being', 'have', 'has', 'had', 'having', 'do', 'does', 'did', 'doing', 'a', 'an', 'the', 'and', 'but', 'if', 'or', 'because', 'as', 'until', 'while', 'of', 'at', 'by', 'for', 'with', 'about', 'against', 'between', 'into', 'through', 'during', 'before', 'after', 'above', 'below', 'to', 'from', 'up', 'down', 'in', 'out', 'on', 'off', 'over', 'under', 'again', 'further', 'then', 'once', 'here', 'there', 'when', 'where', 'why', 'how', 'all', 'any', 'both', 'each', 'few', 'more', 'most', 'other', 'some', 'such', 'no', 'nor', 'not', 'only', 'own', 'same', 'so', 'than', 'too', 'very', 's', 't', 'can', 'will', 'just', 'don', \"don't\", 'should', \"should've\", 'now', 'd', 'll', 'm', 'o', 're', 've', 'y', 'ain', 'aren', \"aren't\", 'couldn', \"couldn't\", 'didn', \"didn't\", 'doesn', \"doesn't\", 'hadn', \"hadn't\", 'hasn', \"hasn't\", 'haven', \"haven't\", 'isn', \"isn't\", 'ma', 'mightn', \"mightn't\", 'mustn', \"mustn't\", 'needn', \"needn't\", 'shan', \"shan't\", 'shouldn', \"shouldn't\", 'wasn', \"wasn't\", 'weren', \"weren't\", 'won', \"won't\", 'wouldn', \"wouldn't\"]\n"
     ]
    },
    {
     "data": {
      "text/plain": [
       "179"
      ]
     },
     "execution_count": 16,
     "metadata": {},
     "output_type": "execute_result"
    }
   ],
   "source": [
    "from nltk.corpus import stopwords\n",
    "stopwords_list = stopwords.words('english')\n",
    "print(stopwords_list)\n",
    "len(stopwords_list)"
   ]
  },
  {
   "cell_type": "code",
   "execution_count": 17,
   "metadata": {},
   "outputs": [],
   "source": [
    "# Stopwords removal\n",
    "# 1차적으로 nltk에서 제공하는 불용어사전을 이용해서 불용어를 제거할 수 있습니다.\n",
    "from nltk.corpus import stopwords\n",
    "stopwords_list = stopwords.words('english') #nltk에서 제공하는 불용어사전 이용\n",
    "#print('stopwords: ', stopwords_list)\n",
    "unique_NN_words = set(lemmatized_words)\n",
    "final_NN_words = lemmatized_words\n",
    "\n",
    "# 불용어 제거\n",
    "for word in unique_NN_words:\n",
    "    if word in stopwords_list:\n",
    "        while word in final_NN_words: final_NN_words.remove(word)\n",
    "            "
   ]
  },
  {
   "cell_type": "code",
   "execution_count": 18,
   "metadata": {},
   "outputs": [
    {
     "name": "stdout",
     "output_type": "stream",
     "text": [
      "['hurray', 'hotblack', 'coffee', 'cafe', 'toronto', 'wifi', 'customer', 'cafe', 'york', 'city', 'location', 'café', 'grumpy', 'hotblacks', 'reason', 'blackout', 'cause', 'hosanna', 'president', 'jimson', 'bienenstock', 'aim', 'customer', 'device', 'vibe', 'york', 'time', 'vehicle', 'interaction', 'commodity', 'idea', 'bienenstock', 'science', 'decade', 'interaction', 'contributor', 'health', 'longevity', 'evidence', 'value', 'connection', 'morning', 'walk', 'woman', 'swim', 'locker', 'room', 'ymca', 'use', 'device', 'locker', 'room', 'experience', 'friend', 'share', 'joy', 'woman', 'problem', 'board', 'advice', 'counsel', 'laugh', 'brightens', 'day', 'study', 'life', 'harvard', 'health', 'watch', 'dozen', 'study', 'people', 'relationship', 'family', 'friend', 'community', 'health', 'problem', 'longer', 'study', 'men', 'woman', 'county', 'calif', 'lisa', 'berkman', 'leonard', 'syme', 'people', 'others', 'time', 'nineyear', 'study', 'people', 'tie', 'robbins', 'book', 'health', 'longevity', 'difference', 'survival', 'people', 'age', 'gender', 'health', 'practice', 'health', 'status', 'fact', 'researcher', 'tie', 'lifestyle', 'obesity', 'lack', 'exercise', 'tie', 'living', 'habit', 'robbins', 'people', 'lifestyle', 'tie', 'study', 'journal', 'medicine', 'researcher', 'health', 'insurance', 'plan', 'york', 'men', 'heart', 'attack', 'connection', 'people', 'quarter', 'risk', 'death', 'year', 'connectedness', 'researcher', 'duke', 'university', 'center', 'tie', 'death', 'people', 'condition', 'brummett', 'colleague', 'adult', 'artery', 'disease', 'mortality', 'rate', 'time', 'column', 'loneliness', 'review', 'research', 'indicating', 'isolation', 'par', 'blood', 'pressure', 'obesity', 'lack', 'exercise', 'smoking', 'risk', 'factor', 'illness', 'death', 'people', 'contact', 'level', 'stress', 'inflammation', 'turn', 'wellbeing', 'bodily', 'system', 'brain', 'interaction', 'flow', 'organ', 'function', 'gene', 'body', 'ability', 'inflammation', 'inflammation', 'heart', 'disease', 'arthritis', 'type', 'diabetes', 'attempt', 'report', 'journal', 'health', 'behavior', 'debra', 'umberson', 'jennifer', 'karas', 'sociology', 'researcher', 'university', 'texas', 'austin', 'evidence', 'quantity', 'quality', 'tie', 'host', 'condition', 'development', 'worsening', 'disease', 'repeat', 'heart', 'disorder', 'blood', 'pressure', 'cancer', 'texas', 'researcher', 'interaction', 'health', 'influence', 'people', 'habit', 'example', 'none', 'friend', 'researcher', 'practice', 'health', 'behavior', 'exercise', 'diet', 'weight', 'gain', 'abuse', 'alcohol', 'drug', 'percent', 'mortality', 'morbidity', 'disability', 'state', 'lack', 'interaction', 'damage', 'health', 'support', 'connection', 'effect', 'stress', 'sense', 'meaning', 'purpose', 'life', 'texas', 'researcher', 'seppala', 'stanford', 'center', 'compassion', 'altruism', 'research', 'education', 'author', 'book', 'happiness', 'track', 'people', 'others', 'level', 'anxiety', 'depression', 'moreover', 'study', 'selfesteem', 'empathy', 'others', 'consequence', 'others', 'word', 'seppala', 'connectedness', 'feedback', 'loop', 'wellbeing', 'decline', 'connectedness', 'increase', 'report', 'isolation', 'alienation', 'loneliness', 'reason', 'people', 'counseling', 'research', 'percent', 'american', 'one', 'friend', 'problem', 'healthpromoting', 'lifestyle', 'veggie', 'exercise', 'dr', 'seppala', 'forget']\n"
     ]
    }
   ],
   "source": [
    "print(final_NN_words)"
   ]
  },
  {
   "cell_type": "code",
   "execution_count": 19,
   "metadata": {
    "scrolled": true
   },
   "outputs": [
    {
     "name": "stdout",
     "output_type": "stream",
     "text": [
      "['hurray', 'hotblack', 'coffee', 'cafe', 'toronto', 'wifi', 'customer', 'cafe', 'city', 'location', 'café', 'grumpy', 'hotblacks', 'reason', 'blackout', 'cause', 'hosanna', 'president', 'jimson', 'bienenstock', 'aim', 'customer', 'device', 'vibe', 'vehicle', 'interaction', 'commodity', 'idea', 'bienenstock', 'science', 'decade', 'interaction', 'contributor', 'health', 'longevity', 'evidence', 'value', 'connection', 'morning', 'walk', 'woman', 'swim', 'locker', 'room', 'ymca', 'use', 'device', 'locker', 'room', 'experience', 'friend', 'share', 'joy', 'woman', 'problem', 'board', 'advice', 'counsel', 'laugh', 'brightens', 'day', 'study', 'life', 'harvard', 'health', 'watch', 'dozen', 'study', 'people', 'relationship', 'family', 'friend', 'community', 'health', 'problem', 'longer', 'study', 'men', 'woman', 'county', 'calif', 'lisa', 'berkman', 'leonard', 'syme', 'people', 'others', 'nineyear', 'study', 'people', 'tie', 'robbins', 'book', 'health', 'longevity', 'difference', 'survival', 'people', 'age', 'gender', 'health', 'practice', 'health', 'status', 'fact', 'researcher', 'tie', 'lifestyle', 'obesity', 'lack', 'exercise', 'tie', 'living', 'habit', 'robbins', 'people', 'lifestyle', 'tie', 'study', 'journal', 'medicine', 'researcher', 'health', 'insurance', 'plan', 'men', 'heart', 'attack', 'connection', 'people', 'quarter', 'risk', 'death', 'year', 'connectedness', 'researcher', 'duke', 'university', 'center', 'tie', 'death', 'people', 'condition', 'brummett', 'colleague', 'adult', 'artery', 'disease', 'mortality', 'rate', 'column', 'loneliness', 'review', 'research', 'indicating', 'isolation', 'par', 'blood', 'pressure', 'obesity', 'lack', 'exercise', 'smoking', 'risk', 'factor', 'illness', 'death', 'people', 'contact', 'level', 'stress', 'inflammation', 'turn', 'wellbeing', 'bodily', 'system', 'brain', 'interaction', 'flow', 'organ', 'function', 'gene', 'body', 'ability', 'inflammation', 'inflammation', 'heart', 'disease', 'arthritis', 'type', 'diabetes', 'attempt', 'report', 'journal', 'health', 'behavior', 'debra', 'umberson', 'jennifer', 'karas', 'sociology', 'researcher', 'university', 'texas', 'austin', 'evidence', 'quantity', 'quality', 'tie', 'host', 'condition', 'development', 'worsening', 'disease', 'repeat', 'heart', 'disorder', 'blood', 'pressure', 'cancer', 'texas', 'researcher', 'interaction', 'health', 'influence', 'people', 'habit', 'example', 'none', 'friend', 'researcher', 'practice', 'health', 'behavior', 'exercise', 'diet', 'weight', 'gain', 'abuse', 'alcohol', 'drug', 'percent', 'mortality', 'morbidity', 'disability', 'state', 'lack', 'interaction', 'damage', 'health', 'support', 'connection', 'effect', 'stress', 'sense', 'meaning', 'purpose', 'life', 'texas', 'researcher', 'seppala', 'stanford', 'center', 'compassion', 'altruism', 'research', 'education', 'author', 'book', 'happiness', 'track', 'people', 'others', 'level', 'anxiety', 'depression', 'moreover', 'study', 'selfesteem', 'empathy', 'others', 'consequence', 'others', 'word', 'seppala', 'connectedness', 'feedback', 'loop', 'wellbeing', 'decline', 'connectedness', 'increase', 'report', 'isolation', 'alienation', 'loneliness', 'reason', 'people', 'counseling', 'research', 'percent', 'american', 'one', 'friend', 'problem', 'healthpromoting', 'lifestyle', 'veggie', 'exercise', 'dr', 'seppala', 'forget']\n"
     ]
    }
   ],
   "source": [
    "# 제거하거자 하는 단어가 nltk에서 제공되는 사전에 포함되어 있지 않은 경우에, 아래와 같이 직접 만들어 사용할 수도 있습니다.\n",
    "customized_stopwords = ['be', 'today', 'yesterday', 'new', 'york', 'time'] # 직접 만든 불용어 사전\n",
    "unique_NN_words1 = set(final_NN_words)\n",
    "for word in unique_NN_words1:\n",
    "    if word in customized_stopwords:\n",
    "        while word in final_NN_words: final_NN_words.remove(word)\n",
    "#------------------------------------------------\n",
    "\n",
    "print(final_NN_words)"
   ]
  },
  {
   "cell_type": "code",
   "execution_count": 20,
   "metadata": {},
   "outputs": [
    {
     "name": "stdout",
     "output_type": "stream",
     "text": [
      "Counter({'health': 11, 'people': 11, 'researcher': 7, 'study': 6, 'tie': 6, 'interaction': 5, 'friend': 4, 'others': 4, 'exercise': 4, 'connection': 3, 'woman': 3, 'problem': 3, 'lifestyle': 3, 'lack': 3, 'heart': 3, 'death': 3, 'connectedness': 3, 'disease': 3, 'research': 3, 'inflammation': 3, 'texas': 3, 'seppala': 3, 'cafe': 2, 'customer': 2, 'reason': 2, 'bienenstock': 2, 'device': 2, 'longevity': 2, 'evidence': 2, 'locker': 2, 'room': 2, 'life': 2, 'men': 2, 'robbins': 2, 'book': 2, 'practice': 2, 'obesity': 2, 'habit': 2, 'journal': 2, 'risk': 2, 'university': 2, 'center': 2, 'condition': 2, 'mortality': 2, 'loneliness': 2, 'isolation': 2, 'blood': 2, 'pressure': 2, 'level': 2, 'stress': 2, 'wellbeing': 2, 'report': 2, 'behavior': 2, 'percent': 2, 'hurray': 1, 'hotblack': 1, 'coffee': 1, 'toronto': 1, 'wifi': 1, 'city': 1, 'location': 1, 'café': 1, 'grumpy': 1, 'hotblacks': 1, 'blackout': 1, 'cause': 1, 'hosanna': 1, 'president': 1, 'jimson': 1, 'aim': 1, 'vibe': 1, 'vehicle': 1, 'commodity': 1, 'idea': 1, 'science': 1, 'decade': 1, 'contributor': 1, 'value': 1, 'morning': 1, 'walk': 1, 'swim': 1, 'ymca': 1, 'use': 1, 'experience': 1, 'share': 1, 'joy': 1, 'board': 1, 'advice': 1, 'counsel': 1, 'laugh': 1, 'brightens': 1, 'day': 1, 'harvard': 1, 'watch': 1, 'dozen': 1, 'relationship': 1, 'family': 1, 'community': 1, 'longer': 1, 'county': 1, 'calif': 1, 'lisa': 1, 'berkman': 1, 'leonard': 1, 'syme': 1, 'nineyear': 1, 'difference': 1, 'survival': 1, 'age': 1, 'gender': 1, 'status': 1, 'fact': 1, 'living': 1, 'medicine': 1, 'insurance': 1, 'plan': 1, 'attack': 1, 'quarter': 1, 'year': 1, 'duke': 1, 'brummett': 1, 'colleague': 1, 'adult': 1, 'artery': 1, 'rate': 1, 'column': 1, 'review': 1, 'indicating': 1, 'par': 1, 'smoking': 1, 'factor': 1, 'illness': 1, 'contact': 1, 'turn': 1, 'bodily': 1, 'system': 1, 'brain': 1, 'flow': 1, 'organ': 1, 'function': 1, 'gene': 1, 'body': 1, 'ability': 1, 'arthritis': 1, 'type': 1, 'diabetes': 1, 'attempt': 1, 'debra': 1, 'umberson': 1, 'jennifer': 1, 'karas': 1, 'sociology': 1, 'austin': 1, 'quantity': 1, 'quality': 1, 'host': 1, 'development': 1, 'worsening': 1, 'repeat': 1, 'disorder': 1, 'cancer': 1, 'influence': 1, 'example': 1, 'none': 1, 'diet': 1, 'weight': 1, 'gain': 1, 'abuse': 1, 'alcohol': 1, 'drug': 1, 'morbidity': 1, 'disability': 1, 'state': 1, 'damage': 1, 'support': 1, 'effect': 1, 'sense': 1, 'meaning': 1, 'purpose': 1, 'stanford': 1, 'compassion': 1, 'altruism': 1, 'education': 1, 'author': 1, 'happiness': 1, 'track': 1, 'anxiety': 1, 'depression': 1, 'moreover': 1, 'selfesteem': 1, 'empathy': 1, 'consequence': 1, 'word': 1, 'feedback': 1, 'loop': 1, 'decline': 1, 'increase': 1, 'alienation': 1, 'counseling': 1, 'american': 1, 'one': 1, 'healthpromoting': 1, 'veggie': 1, 'dr': 1, 'forget': 1})\n"
     ]
    }
   ],
   "source": [
    "from collections import Counter\n",
    "c = Counter(final_NN_words) # input type should be a list of words (or tokens)\n",
    "print(c)\n"
   ]
  },
  {
   "cell_type": "code",
   "execution_count": 21,
   "metadata": {},
   "outputs": [
    {
     "name": "stdout",
     "output_type": "stream",
     "text": [
      "[('health', 11), ('people', 11), ('researcher', 7), ('study', 6), ('tie', 6), ('interaction', 5), ('friend', 4), ('others', 4), ('exercise', 4), ('connection', 3)]\n"
     ]
    }
   ],
   "source": [
    "print(c.most_common(10)) # 빈도수 기준 상위 k개 단어 출력"
   ]
  },
  {
   "cell_type": "code",
   "execution_count": 22,
   "metadata": {},
   "outputs": [
    {
     "ename": "ImportError",
     "evalue": "The _imagingft C module is not installed",
     "output_type": "error",
     "traceback": [
      "\u001b[1;31m---------------------------------------------------------------------------\u001b[0m",
      "\u001b[1;31mImportError\u001b[0m                               Traceback (most recent call last)",
      "\u001b[1;32m<ipython-input-22-831be8e86364>\u001b[0m in \u001b[0;36m<module>\u001b[1;34m\u001b[0m\n\u001b[0;32m      8\u001b[0m \u001b[1;33m\u001b[0m\u001b[0m\n\u001b[0;32m      9\u001b[0m \u001b[0mwordcloud\u001b[0m \u001b[1;33m=\u001b[0m \u001b[0mWordCloud\u001b[0m\u001b[1;33m(\u001b[0m\u001b[0mmax_font_size\u001b[0m\u001b[1;33m=\u001b[0m\u001b[1;36m50\u001b[0m\u001b[1;33m,\u001b[0m \u001b[0mrelative_scaling\u001b[0m\u001b[1;33m=\u001b[0m\u001b[1;36m.9\u001b[0m\u001b[1;33m)\u001b[0m\u001b[1;33m\u001b[0m\u001b[1;33m\u001b[0m\u001b[0m\n\u001b[1;32m---> 10\u001b[1;33m \u001b[0mwordcloud\u001b[0m\u001b[1;33m.\u001b[0m\u001b[0mgenerate\u001b[0m\u001b[1;33m(\u001b[0m\u001b[0mtotal_words\u001b[0m\u001b[1;33m)\u001b[0m\u001b[1;33m\u001b[0m\u001b[1;33m\u001b[0m\u001b[0m\n\u001b[0m\u001b[0;32m     11\u001b[0m \u001b[0mplt\u001b[0m\u001b[1;33m.\u001b[0m\u001b[0mfigure\u001b[0m\u001b[1;33m(\u001b[0m\u001b[1;33m)\u001b[0m\u001b[1;33m\u001b[0m\u001b[1;33m\u001b[0m\u001b[0m\n\u001b[0;32m     12\u001b[0m \u001b[0mplt\u001b[0m\u001b[1;33m.\u001b[0m\u001b[0mimshow\u001b[0m\u001b[1;33m(\u001b[0m\u001b[0mwordcloud\u001b[0m\u001b[1;33m,\u001b[0m \u001b[0minterpolation\u001b[0m\u001b[1;33m=\u001b[0m\u001b[1;34m'bilinear'\u001b[0m\u001b[1;33m)\u001b[0m\u001b[1;33m\u001b[0m\u001b[1;33m\u001b[0m\u001b[0m\n",
      "\u001b[1;32m~\\anaconda3\\lib\\site-packages\\wordcloud\\wordcloud.py\u001b[0m in \u001b[0;36mgenerate\u001b[1;34m(self, text)\u001b[0m\n\u001b[0;32m    630\u001b[0m         \u001b[0mself\u001b[0m\u001b[1;33m\u001b[0m\u001b[1;33m\u001b[0m\u001b[0m\n\u001b[0;32m    631\u001b[0m         \"\"\"\n\u001b[1;32m--> 632\u001b[1;33m         \u001b[1;32mreturn\u001b[0m \u001b[0mself\u001b[0m\u001b[1;33m.\u001b[0m\u001b[0mgenerate_from_text\u001b[0m\u001b[1;33m(\u001b[0m\u001b[0mtext\u001b[0m\u001b[1;33m)\u001b[0m\u001b[1;33m\u001b[0m\u001b[1;33m\u001b[0m\u001b[0m\n\u001b[0m\u001b[0;32m    633\u001b[0m \u001b[1;33m\u001b[0m\u001b[0m\n\u001b[0;32m    634\u001b[0m     \u001b[1;32mdef\u001b[0m \u001b[0m_check_generated\u001b[0m\u001b[1;33m(\u001b[0m\u001b[0mself\u001b[0m\u001b[1;33m)\u001b[0m\u001b[1;33m:\u001b[0m\u001b[1;33m\u001b[0m\u001b[1;33m\u001b[0m\u001b[0m\n",
      "\u001b[1;32m~\\anaconda3\\lib\\site-packages\\wordcloud\\wordcloud.py\u001b[0m in \u001b[0;36mgenerate_from_text\u001b[1;34m(self, text)\u001b[0m\n\u001b[0;32m    612\u001b[0m         \"\"\"\n\u001b[0;32m    613\u001b[0m         \u001b[0mwords\u001b[0m \u001b[1;33m=\u001b[0m \u001b[0mself\u001b[0m\u001b[1;33m.\u001b[0m\u001b[0mprocess_text\u001b[0m\u001b[1;33m(\u001b[0m\u001b[0mtext\u001b[0m\u001b[1;33m)\u001b[0m\u001b[1;33m\u001b[0m\u001b[1;33m\u001b[0m\u001b[0m\n\u001b[1;32m--> 614\u001b[1;33m         \u001b[0mself\u001b[0m\u001b[1;33m.\u001b[0m\u001b[0mgenerate_from_frequencies\u001b[0m\u001b[1;33m(\u001b[0m\u001b[0mwords\u001b[0m\u001b[1;33m)\u001b[0m\u001b[1;33m\u001b[0m\u001b[1;33m\u001b[0m\u001b[0m\n\u001b[0m\u001b[0;32m    615\u001b[0m         \u001b[1;32mreturn\u001b[0m \u001b[0mself\u001b[0m\u001b[1;33m\u001b[0m\u001b[1;33m\u001b[0m\u001b[0m\n\u001b[0;32m    616\u001b[0m \u001b[1;33m\u001b[0m\u001b[0m\n",
      "\u001b[1;32m~\\anaconda3\\lib\\site-packages\\wordcloud\\wordcloud.py\u001b[0m in \u001b[0;36mgenerate_from_frequencies\u001b[1;34m(self, frequencies, max_font_size)\u001b[0m\n\u001b[0;32m    494\u001b[0m             \u001b[1;32mwhile\u001b[0m \u001b[1;32mTrue\u001b[0m\u001b[1;33m:\u001b[0m\u001b[1;33m\u001b[0m\u001b[1;33m\u001b[0m\u001b[0m\n\u001b[0;32m    495\u001b[0m                 \u001b[1;31m# try to find a position\u001b[0m\u001b[1;33m\u001b[0m\u001b[1;33m\u001b[0m\u001b[1;33m\u001b[0m\u001b[0m\n\u001b[1;32m--> 496\u001b[1;33m                 \u001b[0mfont\u001b[0m \u001b[1;33m=\u001b[0m \u001b[0mImageFont\u001b[0m\u001b[1;33m.\u001b[0m\u001b[0mtruetype\u001b[0m\u001b[1;33m(\u001b[0m\u001b[0mself\u001b[0m\u001b[1;33m.\u001b[0m\u001b[0mfont_path\u001b[0m\u001b[1;33m,\u001b[0m \u001b[0mfont_size\u001b[0m\u001b[1;33m)\u001b[0m\u001b[1;33m\u001b[0m\u001b[1;33m\u001b[0m\u001b[0m\n\u001b[0m\u001b[0;32m    497\u001b[0m                 \u001b[1;31m# transpose font optionally\u001b[0m\u001b[1;33m\u001b[0m\u001b[1;33m\u001b[0m\u001b[1;33m\u001b[0m\u001b[0m\n\u001b[0;32m    498\u001b[0m                 transposed_font = ImageFont.TransposedFont(\n",
      "\u001b[1;32m~\\anaconda3\\lib\\site-packages\\PIL\\ImageFont.py\u001b[0m in \u001b[0;36mtruetype\u001b[1;34m(font, size, index, encoding, layout_engine)\u001b[0m\n\u001b[0;32m    834\u001b[0m \u001b[1;33m\u001b[0m\u001b[0m\n\u001b[0;32m    835\u001b[0m     \u001b[1;32mtry\u001b[0m\u001b[1;33m:\u001b[0m\u001b[1;33m\u001b[0m\u001b[1;33m\u001b[0m\u001b[0m\n\u001b[1;32m--> 836\u001b[1;33m         \u001b[1;32mreturn\u001b[0m \u001b[0mfreetype\u001b[0m\u001b[1;33m(\u001b[0m\u001b[0mfont\u001b[0m\u001b[1;33m)\u001b[0m\u001b[1;33m\u001b[0m\u001b[1;33m\u001b[0m\u001b[0m\n\u001b[0m\u001b[0;32m    837\u001b[0m     \u001b[1;32mexcept\u001b[0m \u001b[0mOSError\u001b[0m\u001b[1;33m:\u001b[0m\u001b[1;33m\u001b[0m\u001b[1;33m\u001b[0m\u001b[0m\n\u001b[0;32m    838\u001b[0m         \u001b[1;32mif\u001b[0m \u001b[1;32mnot\u001b[0m \u001b[0misPath\u001b[0m\u001b[1;33m(\u001b[0m\u001b[0mfont\u001b[0m\u001b[1;33m)\u001b[0m\u001b[1;33m:\u001b[0m\u001b[1;33m\u001b[0m\u001b[1;33m\u001b[0m\u001b[0m\n",
      "\u001b[1;32m~\\anaconda3\\lib\\site-packages\\PIL\\ImageFont.py\u001b[0m in \u001b[0;36mfreetype\u001b[1;34m(font)\u001b[0m\n\u001b[0;32m    831\u001b[0m \u001b[1;33m\u001b[0m\u001b[0m\n\u001b[0;32m    832\u001b[0m     \u001b[1;32mdef\u001b[0m \u001b[0mfreetype\u001b[0m\u001b[1;33m(\u001b[0m\u001b[0mfont\u001b[0m\u001b[1;33m)\u001b[0m\u001b[1;33m:\u001b[0m\u001b[1;33m\u001b[0m\u001b[1;33m\u001b[0m\u001b[0m\n\u001b[1;32m--> 833\u001b[1;33m         \u001b[1;32mreturn\u001b[0m \u001b[0mFreeTypeFont\u001b[0m\u001b[1;33m(\u001b[0m\u001b[0mfont\u001b[0m\u001b[1;33m,\u001b[0m \u001b[0msize\u001b[0m\u001b[1;33m,\u001b[0m \u001b[0mindex\u001b[0m\u001b[1;33m,\u001b[0m \u001b[0mencoding\u001b[0m\u001b[1;33m,\u001b[0m \u001b[0mlayout_engine\u001b[0m\u001b[1;33m)\u001b[0m\u001b[1;33m\u001b[0m\u001b[1;33m\u001b[0m\u001b[0m\n\u001b[0m\u001b[0;32m    834\u001b[0m \u001b[1;33m\u001b[0m\u001b[0m\n\u001b[0;32m    835\u001b[0m     \u001b[1;32mtry\u001b[0m\u001b[1;33m:\u001b[0m\u001b[1;33m\u001b[0m\u001b[1;33m\u001b[0m\u001b[0m\n",
      "\u001b[1;32m~\\anaconda3\\lib\\site-packages\\PIL\\ImageFont.py\u001b[0m in \u001b[0;36m__init__\u001b[1;34m(self, font, size, index, encoding, layout_engine)\u001b[0m\n\u001b[0;32m    167\u001b[0m         \u001b[1;32mif\u001b[0m \u001b[0mlayout_engine\u001b[0m \u001b[1;32mnot\u001b[0m \u001b[1;32min\u001b[0m \u001b[1;33m(\u001b[0m\u001b[0mLAYOUT_BASIC\u001b[0m\u001b[1;33m,\u001b[0m \u001b[0mLAYOUT_RAQM\u001b[0m\u001b[1;33m)\u001b[0m\u001b[1;33m:\u001b[0m\u001b[1;33m\u001b[0m\u001b[1;33m\u001b[0m\u001b[0m\n\u001b[0;32m    168\u001b[0m             \u001b[0mlayout_engine\u001b[0m \u001b[1;33m=\u001b[0m \u001b[0mLAYOUT_BASIC\u001b[0m\u001b[1;33m\u001b[0m\u001b[1;33m\u001b[0m\u001b[0m\n\u001b[1;32m--> 169\u001b[1;33m             \u001b[1;32mif\u001b[0m \u001b[0mcore\u001b[0m\u001b[1;33m.\u001b[0m\u001b[0mHAVE_RAQM\u001b[0m\u001b[1;33m:\u001b[0m\u001b[1;33m\u001b[0m\u001b[1;33m\u001b[0m\u001b[0m\n\u001b[0m\u001b[0;32m    170\u001b[0m                 \u001b[0mlayout_engine\u001b[0m \u001b[1;33m=\u001b[0m \u001b[0mLAYOUT_RAQM\u001b[0m\u001b[1;33m\u001b[0m\u001b[1;33m\u001b[0m\u001b[0m\n\u001b[0;32m    171\u001b[0m         \u001b[1;32melif\u001b[0m \u001b[0mlayout_engine\u001b[0m \u001b[1;33m==\u001b[0m \u001b[0mLAYOUT_RAQM\u001b[0m \u001b[1;32mand\u001b[0m \u001b[1;32mnot\u001b[0m \u001b[0mcore\u001b[0m\u001b[1;33m.\u001b[0m\u001b[0mHAVE_RAQM\u001b[0m\u001b[1;33m:\u001b[0m\u001b[1;33m\u001b[0m\u001b[1;33m\u001b[0m\u001b[0m\n",
      "\u001b[1;32m~\\anaconda3\\lib\\site-packages\\PIL\\ImageFont.py\u001b[0m in \u001b[0;36m__getattr__\u001b[1;34m(self, id)\u001b[0m\n\u001b[0;32m     41\u001b[0m     \u001b[1;31m# module placeholder\u001b[0m\u001b[1;33m\u001b[0m\u001b[1;33m\u001b[0m\u001b[1;33m\u001b[0m\u001b[0m\n\u001b[0;32m     42\u001b[0m     \u001b[1;32mdef\u001b[0m \u001b[0m__getattr__\u001b[0m\u001b[1;33m(\u001b[0m\u001b[0mself\u001b[0m\u001b[1;33m,\u001b[0m \u001b[0mid\u001b[0m\u001b[1;33m)\u001b[0m\u001b[1;33m:\u001b[0m\u001b[1;33m\u001b[0m\u001b[1;33m\u001b[0m\u001b[0m\n\u001b[1;32m---> 43\u001b[1;33m         \u001b[1;32mraise\u001b[0m \u001b[0mImportError\u001b[0m\u001b[1;33m(\u001b[0m\u001b[1;34m\"The _imagingft C module is not installed\"\u001b[0m\u001b[1;33m)\u001b[0m\u001b[1;33m\u001b[0m\u001b[1;33m\u001b[0m\u001b[0m\n\u001b[0m\u001b[0;32m     44\u001b[0m \u001b[1;33m\u001b[0m\u001b[0m\n\u001b[0;32m     45\u001b[0m \u001b[1;33m\u001b[0m\u001b[0m\n",
      "\u001b[1;31mImportError\u001b[0m: The _imagingft C module is not installed"
     ]
    }
   ],
   "source": [
    "from wordcloud import WordCloud\n",
    "import matplotlib.pyplot as plt\n",
    "\n",
    "# total_words = ''\n",
    "# for word in final_NN_words:\n",
    "#     total_words = total_words+' '+word\n",
    "total_words = ' '.join(final_NN_words)\n",
    "\n",
    "wordcloud = WordCloud(max_font_size=50, relative_scaling=.9)\n",
    "wordcloud.generate(total_words)\n",
    "plt.figure()\n",
    "plt.imshow(wordcloud, interpolation='bilinear')\n",
    "plt.axis(\"off\")\n",
    "plt.show()"
   ]
  },
  {
   "cell_type": "code",
   "execution_count": null,
   "metadata": {},
   "outputs": [],
   "source": []
  }
 ],
 "metadata": {
  "kernelspec": {
   "display_name": "Python 3",
   "language": "python",
   "name": "python3"
  },
  "language_info": {
   "codemirror_mode": {
    "name": "ipython",
    "version": 3
   },
   "file_extension": ".py",
   "mimetype": "text/x-python",
   "name": "python",
   "nbconvert_exporter": "python",
   "pygments_lexer": "ipython3",
   "version": "3.10.5 (tags/v3.10.5:f377153, Jun  6 2022, 16:14:13) [MSC v.1929 64 bit (AMD64)]"
  },
  "vscode": {
   "interpreter": {
    "hash": "f324efe2a5d1bd11a333c9fd5276eaf4dfe9ad62528b8e23a16083d4fd1c4166"
   }
  }
 },
 "nbformat": 4,
 "nbformat_minor": 2
}
